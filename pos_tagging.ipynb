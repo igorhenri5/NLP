{
 "cells": [
  {
   "cell_type": "markdown",
   "metadata": {},
   "source": [
    "# Trabalhando com POS Tagging\n"
   ]
  },
  {
   "cell_type": "markdown",
   "metadata": {},
   "source": [
    "## Objetivo\n",
    "\n",
    "<p style='text-align: justify;'>\n",
    "Através deste notebook, buscamos implementar um modelo para a tarefa de POS-Tagging a partir de embeddings gerados por um modelo SKIP-GRAM. \n",
    "Para a demonstração feita neste trabalho, utilizaremos embeddings gerados por um modelo SKIP-GRAM treinado em todos os arquivos do corpus macmorpho, tendo em vista que estamos trabalhando com um corpus bastante pequeno.\n",
    "    \n",
    "(Alternativamente, podemos utilizar embeddings para palavras da língua portuguesa pré treinados pela ferramenta Wikipedia2Vec, computados por um modelo SKIP-GRAM.)\n",
    "</p>"
   ]
  },
  {
   "cell_type": "markdown",
   "metadata": {},
   "source": [
    "### Requisitos\n",
    "\n",
    "Bibliotecas\n",
    "* `Gensim`\n",
    "* `Nltk`\n",
    "* `TensorFlow`\n",
    "* `Seaborn`\n",
    "\n",
    "Corpus\n",
    "* `Macmorpho-v3`\n",
    "\n",
    "\n",
    "<span style=\"color: gray\">(Opcional) \n",
    "Embeddings pré-treinados : Wikipedia2Vec - ptwiki_20180420 (window=5, iteration=10, negative=15, size=100)`\n",
    "</span>"
   ]
  },
  {
   "cell_type": "code",
   "execution_count": 1,
   "metadata": {},
   "outputs": [],
   "source": [
    "import os\n",
    "import numpy as np\n",
    "import multiprocessing\n",
    "import collections\n",
    "import matplotlib.pyplot as plt\n",
    "import seaborn as sns\n",
    "import nltk\n",
    "import gensim\n",
    "from gensim.models import Word2Vec\n",
    "from gensim.models import KeyedVectors\n",
    "import tensorflow as tf \n",
    "from tensorflow.keras import Sequential\n",
    "from tensorflow.keras.utils import to_categorical\n",
    "from tensorflow.keras.layers import Dense, Embedding, Activation, Flatten\n",
    "\n",
    "from time import time  # To time our operations\n",
    "\n",
    "import warnings\n",
    "warnings.simplefilter(action='ignore', category=FutureWarning)\n",
    "\n",
    "import logging  # Setting up the loggings to monitor gensim\n",
    "logging.basicConfig(format=\"%(levelname)s - %(asctime)s: %(message)s\", datefmt= '%H:%M:%S', level=logging.INFO)"
   ]
  },
  {
   "cell_type": "code",
   "execution_count": 12,
   "metadata": {},
   "outputs": [],
   "source": [
    "a = tf.config.experimental.get_memory_growth(physical_device[0])"
   ]
  },
  {
   "cell_type": "code",
   "execution_count": 11,
   "metadata": {},
   "outputs": [],
   "source": [
    "tf.config.experimental.set_memory_growth(physical_device[0],True)"
   ]
  },
  {
   "cell_type": "code",
   "execution_count": 14,
   "metadata": {},
   "outputs": [
    {
     "name": "stdout",
     "output_type": "stream",
     "text": [
      "Device found : [PhysicalDevice(name='/physical_device:GPU:0', device_type='GPU')]\n"
     ]
    }
   ],
   "source": [
    "physical_device = tf.config.experimental.list_physical_devices('GPU')\n",
    "print(f'Device found : {physical_device}')"
   ]
  },
  {
   "cell_type": "markdown",
   "metadata": {},
   "source": [
    "## Embeddings com SKIP-GRAM\n"
   ]
  },
  {
   "cell_type": "markdown",
   "metadata": {},
   "source": [
    "### Carregando o corpus para o modelo word2vec"
   ]
  },
  {
   "cell_type": "markdown",
   "metadata": {},
   "source": [
    "Primeiramente, vamos obter os embeddings que serão utilizados posteriormente como base para o nosso modelo responsável pela tarefa de POS-Tagging."
   ]
  },
  {
   "cell_type": "code",
   "execution_count": 90,
   "metadata": {},
   "outputs": [],
   "source": [
    "USING_MACMORPHO = True"
   ]
  },
  {
   "cell_type": "code",
   "execution_count": 91,
   "metadata": {},
   "outputs": [],
   "source": [
    "macmorphoDir = 'macmorpho-v3'\n",
    "wiki2vecDir = 'wiki2vec'"
   ]
  },
  {
   "cell_type": "code",
   "execution_count": 92,
   "metadata": {},
   "outputs": [],
   "source": [
    "def load_full_macmorpho_words_only():\n",
    "    words = []\n",
    "    with open(macmorphoDir + \"/macmorpho-train.txt\", encoding=\"utf8\") as f:\n",
    "        for line in f.readlines(): \n",
    "            line_words = []\n",
    "            for word in line.split():\n",
    "                line_words.append(word.split(\"_\")[0]) \n",
    "            words.append(line_words)\n",
    "    with open(macmorphoDir + \"/macmorpho-dev.txt\", encoding=\"utf8\") as f:\n",
    "        for line in f.readlines(): \n",
    "            line_words = []\n",
    "            for word in line.split():\n",
    "                line_words.append(word.split(\"_\")[0]) \n",
    "            words.append(line_words)\n",
    "    with open(macmorphoDir + \"/macmorpho-test.txt\", encoding=\"utf8\") as f:\n",
    "        for line in f.readlines(): \n",
    "            line_words = []\n",
    "            for word in line.split():\n",
    "                line_words.append(word.split(\"_\")[0]) \n",
    "            words.append(line_words)\n",
    "    return words"
   ]
  },
  {
   "cell_type": "code",
   "execution_count": 93,
   "metadata": {},
   "outputs": [],
   "source": [
    "morpho_sentences = load_full_macmorpho_words_only()"
   ]
  },
  {
   "cell_type": "code",
   "execution_count": 94,
   "metadata": {},
   "outputs": [
    {
     "name": "stdout",
     "output_type": "stream",
     "text": [
      "[['Jersei', 'atinge', 'média', 'de', 'Cr$', '1,4', 'milhão', 'na', 'venda', 'da', 'Pinhal', 'em', 'São', 'Paulo', '.'], ['Programe', 'sua', 'viagem', 'à', 'Exposição', 'Nacional', 'do', 'Zebu', ',', 'que', 'começa', 'dia', '25', '.']]\n"
     ]
    }
   ],
   "source": [
    "print(morpho_sentences[:2])"
   ]
  },
  {
   "cell_type": "code",
   "execution_count": 95,
   "metadata": {},
   "outputs": [],
   "source": [
    "V_SIZE = 100"
   ]
  },
  {
   "cell_type": "markdown",
   "metadata": {},
   "source": [
    "Utilizaremos parâmetros para o modelo levando em consideração o tamanho pequeno do corpus e a experiência do primeiro trabalho prático da disciplina."
   ]
  },
  {
   "cell_type": "code",
   "execution_count": 96,
   "metadata": {},
   "outputs": [
    {
     "name": "stderr",
     "output_type": "stream",
     "text": [
      "INFO - 03:25:09: collecting all words and their counts\n",
      "INFO - 03:25:09: PROGRESS: at sentence #0, processed 0 words, keeping 0 word types\n",
      "INFO - 03:25:09: PROGRESS: at sentence #10000, processed 207323 words, keeping 21591 word types\n",
      "INFO - 03:25:09: PROGRESS: at sentence #20000, processed 406869 words, keeping 33064 word types\n",
      "INFO - 03:25:09: PROGRESS: at sentence #30000, processed 576284 words, keeping 42711 word types\n",
      "INFO - 03:25:09: PROGRESS: at sentence #40000, processed 768271 words, keeping 54164 word types\n",
      "INFO - 03:25:09: collected 60918 word types from a corpus of 945751 raw words and 49932 sentences\n",
      "INFO - 03:25:09: Loading a fresh vocabulary\n",
      "INFO - 03:25:09: effective_min_count=1 retains 60918 unique words (100% of original 60918, drops 0)\n",
      "INFO - 03:25:09: effective_min_count=1 leaves 945751 word corpus (100% of original 945751, drops 0)\n",
      "INFO - 03:25:09: deleting the raw counts dictionary of 60918 items\n",
      "INFO - 03:25:09: sample=0.001 downsamples 35 most-common words\n",
      "INFO - 03:25:09: downsampling leaves estimated 690169 word corpus (73.0% of prior 945751)\n",
      "INFO - 03:25:09: estimated required memory for 60918 words and 100 dimensions: 79193400 bytes\n",
      "INFO - 03:25:09: resetting layer weights\n",
      "INFO - 03:25:20: training model with 4 workers on 60918 vocabulary and 100 features, using sg=0 hs=0 sample=0.001 negative=15 window=5\n",
      "INFO - 03:25:21: worker thread finished; awaiting finish of 3 more threads\n",
      "INFO - 03:25:21: worker thread finished; awaiting finish of 2 more threads\n",
      "INFO - 03:25:21: worker thread finished; awaiting finish of 1 more threads\n",
      "INFO - 03:25:21: worker thread finished; awaiting finish of 0 more threads\n",
      "INFO - 03:25:21: EPOCH - 1 : training on 945751 raw words (690366 effective words) took 0.8s, 872697 effective words/s\n",
      "INFO - 03:25:22: worker thread finished; awaiting finish of 3 more threads\n",
      "INFO - 03:25:22: worker thread finished; awaiting finish of 2 more threads\n",
      "INFO - 03:25:22: worker thread finished; awaiting finish of 1 more threads\n",
      "INFO - 03:25:22: worker thread finished; awaiting finish of 0 more threads\n",
      "INFO - 03:25:22: EPOCH - 2 : training on 945751 raw words (689501 effective words) took 0.8s, 871085 effective words/s\n",
      "INFO - 03:25:22: worker thread finished; awaiting finish of 3 more threads\n",
      "INFO - 03:25:22: worker thread finished; awaiting finish of 2 more threads\n",
      "INFO - 03:25:22: worker thread finished; awaiting finish of 1 more threads\n",
      "INFO - 03:25:22: worker thread finished; awaiting finish of 0 more threads\n",
      "INFO - 03:25:22: EPOCH - 3 : training on 945751 raw words (690149 effective words) took 0.8s, 870462 effective words/s\n",
      "INFO - 03:25:23: worker thread finished; awaiting finish of 3 more threads\n",
      "INFO - 03:25:23: worker thread finished; awaiting finish of 2 more threads\n",
      "INFO - 03:25:23: worker thread finished; awaiting finish of 1 more threads\n",
      "INFO - 03:25:23: worker thread finished; awaiting finish of 0 more threads\n",
      "INFO - 03:25:23: EPOCH - 4 : training on 945751 raw words (689922 effective words) took 0.8s, 864733 effective words/s\n",
      "INFO - 03:25:24: worker thread finished; awaiting finish of 3 more threads\n",
      "INFO - 03:25:24: worker thread finished; awaiting finish of 2 more threads\n",
      "INFO - 03:25:24: worker thread finished; awaiting finish of 1 more threads\n",
      "INFO - 03:25:24: worker thread finished; awaiting finish of 0 more threads\n",
      "INFO - 03:25:24: EPOCH - 5 : training on 945751 raw words (690283 effective words) took 0.8s, 867240 effective words/s\n",
      "INFO - 03:25:25: worker thread finished; awaiting finish of 3 more threads\n",
      "INFO - 03:25:25: worker thread finished; awaiting finish of 2 more threads\n",
      "INFO - 03:25:25: worker thread finished; awaiting finish of 1 more threads\n",
      "INFO - 03:25:25: worker thread finished; awaiting finish of 0 more threads\n",
      "INFO - 03:25:25: EPOCH - 6 : training on 945751 raw words (690216 effective words) took 0.8s, 845966 effective words/s\n",
      "INFO - 03:25:26: worker thread finished; awaiting finish of 3 more threads\n",
      "INFO - 03:25:26: worker thread finished; awaiting finish of 2 more threads\n",
      "INFO - 03:25:26: worker thread finished; awaiting finish of 1 more threads\n",
      "INFO - 03:25:26: worker thread finished; awaiting finish of 0 more threads\n",
      "INFO - 03:25:26: EPOCH - 7 : training on 945751 raw words (689924 effective words) took 0.8s, 866349 effective words/s\n",
      "INFO - 03:25:26: worker thread finished; awaiting finish of 3 more threads\n",
      "INFO - 03:25:26: worker thread finished; awaiting finish of 2 more threads\n",
      "INFO - 03:25:26: worker thread finished; awaiting finish of 1 more threads\n",
      "INFO - 03:25:27: worker thread finished; awaiting finish of 0 more threads\n",
      "INFO - 03:25:27: EPOCH - 8 : training on 945751 raw words (690163 effective words) took 0.8s, 868228 effective words/s\n",
      "INFO - 03:25:27: worker thread finished; awaiting finish of 3 more threads\n",
      "INFO - 03:25:27: worker thread finished; awaiting finish of 2 more threads\n",
      "INFO - 03:25:27: worker thread finished; awaiting finish of 1 more threads\n",
      "INFO - 03:25:27: worker thread finished; awaiting finish of 0 more threads\n",
      "INFO - 03:25:27: EPOCH - 9 : training on 945751 raw words (690213 effective words) took 0.8s, 875402 effective words/s\n",
      "INFO - 03:25:28: worker thread finished; awaiting finish of 3 more threads\n",
      "INFO - 03:25:28: worker thread finished; awaiting finish of 2 more threads\n",
      "INFO - 03:25:28: worker thread finished; awaiting finish of 1 more threads\n",
      "INFO - 03:25:28: worker thread finished; awaiting finish of 0 more threads\n",
      "INFO - 03:25:28: EPOCH - 10 : training on 945751 raw words (690502 effective words) took 0.8s, 863076 effective words/s\n",
      "INFO - 03:25:29: worker thread finished; awaiting finish of 3 more threads\n",
      "INFO - 03:25:29: worker thread finished; awaiting finish of 2 more threads\n",
      "INFO - 03:25:29: worker thread finished; awaiting finish of 1 more threads\n",
      "INFO - 03:25:29: worker thread finished; awaiting finish of 0 more threads\n",
      "INFO - 03:25:29: EPOCH - 11 : training on 945751 raw words (690425 effective words) took 0.8s, 875582 effective words/s\n",
      "INFO - 03:25:30: worker thread finished; awaiting finish of 3 more threads\n",
      "INFO - 03:25:30: worker thread finished; awaiting finish of 2 more threads\n",
      "INFO - 03:25:30: worker thread finished; awaiting finish of 1 more threads\n",
      "INFO - 03:25:30: worker thread finished; awaiting finish of 0 more threads\n",
      "INFO - 03:25:30: EPOCH - 12 : training on 945751 raw words (689587 effective words) took 0.8s, 873363 effective words/s\n",
      "INFO - 03:25:30: worker thread finished; awaiting finish of 3 more threads\n",
      "INFO - 03:25:30: worker thread finished; awaiting finish of 2 more threads\n",
      "INFO - 03:25:30: worker thread finished; awaiting finish of 1 more threads\n",
      "INFO - 03:25:30: worker thread finished; awaiting finish of 0 more threads\n",
      "INFO - 03:25:30: EPOCH - 13 : training on 945751 raw words (689850 effective words) took 0.8s, 875073 effective words/s\n",
      "INFO - 03:25:31: worker thread finished; awaiting finish of 3 more threads\n",
      "INFO - 03:25:31: worker thread finished; awaiting finish of 2 more threads\n",
      "INFO - 03:25:31: worker thread finished; awaiting finish of 1 more threads\n",
      "INFO - 03:25:31: worker thread finished; awaiting finish of 0 more threads\n",
      "INFO - 03:25:31: EPOCH - 14 : training on 945751 raw words (689848 effective words) took 0.8s, 867047 effective words/s\n",
      "INFO - 03:25:32: worker thread finished; awaiting finish of 3 more threads\n",
      "INFO - 03:25:32: worker thread finished; awaiting finish of 2 more threads\n",
      "INFO - 03:25:32: worker thread finished; awaiting finish of 1 more threads\n",
      "INFO - 03:25:32: worker thread finished; awaiting finish of 0 more threads\n",
      "INFO - 03:25:32: EPOCH - 15 : training on 945751 raw words (690237 effective words) took 0.8s, 850728 effective words/s\n",
      "INFO - 03:25:33: worker thread finished; awaiting finish of 3 more threads\n",
      "INFO - 03:25:33: worker thread finished; awaiting finish of 2 more threads\n",
      "INFO - 03:25:33: worker thread finished; awaiting finish of 1 more threads\n",
      "INFO - 03:25:33: worker thread finished; awaiting finish of 0 more threads\n",
      "INFO - 03:25:33: EPOCH - 16 : training on 945751 raw words (689694 effective words) took 0.8s, 860594 effective words/s\n",
      "INFO - 03:25:34: worker thread finished; awaiting finish of 3 more threads\n",
      "INFO - 03:25:34: worker thread finished; awaiting finish of 2 more threads\n"
     ]
    },
    {
     "name": "stderr",
     "output_type": "stream",
     "text": [
      "INFO - 03:25:34: worker thread finished; awaiting finish of 1 more threads\n",
      "INFO - 03:25:34: worker thread finished; awaiting finish of 0 more threads\n",
      "INFO - 03:25:34: EPOCH - 17 : training on 945751 raw words (689769 effective words) took 0.9s, 729913 effective words/s\n",
      "INFO - 03:25:35: worker thread finished; awaiting finish of 3 more threads\n",
      "INFO - 03:25:35: worker thread finished; awaiting finish of 2 more threads\n",
      "INFO - 03:25:35: worker thread finished; awaiting finish of 1 more threads\n",
      "INFO - 03:25:35: worker thread finished; awaiting finish of 0 more threads\n",
      "INFO - 03:25:35: EPOCH - 18 : training on 945751 raw words (690251 effective words) took 1.0s, 716356 effective words/s\n",
      "INFO - 03:25:36: worker thread finished; awaiting finish of 3 more threads\n",
      "INFO - 03:25:36: worker thread finished; awaiting finish of 2 more threads\n",
      "INFO - 03:25:36: worker thread finished; awaiting finish of 1 more threads\n",
      "INFO - 03:25:36: worker thread finished; awaiting finish of 0 more threads\n",
      "INFO - 03:25:36: EPOCH - 19 : training on 945751 raw words (690390 effective words) took 0.9s, 811954 effective words/s\n",
      "INFO - 03:25:37: worker thread finished; awaiting finish of 3 more threads\n",
      "INFO - 03:25:37: worker thread finished; awaiting finish of 2 more threads\n",
      "INFO - 03:25:37: worker thread finished; awaiting finish of 1 more threads\n",
      "INFO - 03:25:37: worker thread finished; awaiting finish of 0 more threads\n",
      "INFO - 03:25:37: EPOCH - 20 : training on 945751 raw words (690108 effective words) took 0.9s, 783063 effective words/s\n",
      "INFO - 03:25:37: training on a 18915020 raw words (13801398 effective words) took 16.5s, 836080 effective words/s\n"
     ]
    }
   ],
   "source": [
    "if USING_MACMORPHO:\n",
    "    w2v = Word2Vec(morpho_sentences, size=V_SIZE, \n",
    "                   window=5, min_count=1, negative=15, \n",
    "                   iter=20, workers=multiprocessing.cpu_count())\n",
    "else:\n",
    "    wv_from_text = KeyedVectors.load_word2vec_format(wiki2vecDir+'/ptwiki_20180420_100d.txt', binary=False)"
   ]
  },
  {
   "cell_type": "code",
   "execution_count": 97,
   "metadata": {},
   "outputs": [],
   "source": [
    "if USING_MACMORPHO:\n",
    "    word_vectors = w2v.wv\n",
    "else:\n",
    "    word_vectors = wv_from_text"
   ]
  },
  {
   "cell_type": "code",
   "execution_count": 98,
   "metadata": {},
   "outputs": [
    {
     "name": "stderr",
     "output_type": "stream",
     "text": [
      "INFO - 03:25:37: precomputing L2-norms of word weight vectors\n"
     ]
    },
    {
     "name": "stdout",
     "output_type": "stream",
     "text": [
      "Most similar to 'o': \n",
      " [('mundo', 0.7957087755203247), ('setor', 0.67374587059021), ('exterior', 0.6563941836357117)]\n"
     ]
    }
   ],
   "source": [
    "result = word_vectors.similar_by_word(\"país\")\n",
    "print(\"Most similar to 'o': \\n\", result[:3])"
   ]
  },
  {
   "cell_type": "markdown",
   "metadata": {},
   "source": [
    "## POS Tagging"
   ]
  },
  {
   "cell_type": "markdown",
   "metadata": {},
   "source": [
    "Primeiramente, vamos carregar e preparar o corpus macmorpho-v3 para uso na tarefa de POS-Tagging. Assim como a estrutura de arquivos sugere, segmentaremos o corpus em treino (`macmorpho-train.txt`), teste (`macmorpho-test.txt`) e validação (`macmorpho-dev.txt`).\n"
   ]
  },
  {
   "cell_type": "code",
   "execution_count": 99,
   "metadata": {},
   "outputs": [],
   "source": [
    "def get_tagged_pairs(corpusPath):\n",
    "    with open(corpusPath, encoding=\"utf8\") as f:\n",
    "        words = []\n",
    "        for line in f.readlines(): \n",
    "            for word in line.split():\n",
    "                aux = word.split(\"_\")\n",
    "                words.append((aux[0], aux[1]))\n",
    "    return words"
   ]
  },
  {
   "cell_type": "code",
   "execution_count": 100,
   "metadata": {
    "tags": []
   },
   "outputs": [],
   "source": [
    "train_words = get_tagged_pairs(macmorphoDir + \"/macmorpho-train.txt\")"
   ]
  },
  {
   "cell_type": "code",
   "execution_count": 101,
   "metadata": {},
   "outputs": [],
   "source": [
    "test_words = get_tagged_pairs(macmorphoDir + \"/macmorpho-test.txt\")"
   ]
  },
  {
   "cell_type": "code",
   "execution_count": 102,
   "metadata": {},
   "outputs": [],
   "source": [
    "validation_words = get_tagged_pairs(macmorphoDir + \"/macmorpho-dev.txt\")"
   ]
  },
  {
   "cell_type": "code",
   "execution_count": 103,
   "metadata": {},
   "outputs": [
    {
     "name": "stdout",
     "output_type": "stream",
     "text": [
      "[('Jersei', 'N'), ('atinge', 'V'), ('média', 'N'), ('de', 'PREP'), ('Cr$', 'CUR'), ('1,4', 'NUM'), ('milhão', 'N'), ('na', 'PREP+ART'), ('venda', 'N'), ('da', 'PREP+ART')]\n",
      "[('Salto', 'N'), ('sete', 'ADJ'), ('O', 'ART'), ('grande', 'ADJ'), ('assunto', 'N'), ('da', 'PREP+ART'), ('semana', 'N'), ('em', 'PREP'), ('Nova', 'NPROP'), ('York', 'NPROP')]\n"
     ]
    }
   ],
   "source": [
    "print(train_words[:10])\n",
    "print(test_words[:10])"
   ]
  },
  {
   "cell_type": "markdown",
   "metadata": {},
   "source": [
    "Percorrendo o corpus, vamos reconstruir o vocabulário de tags, formando um dicionário **tag-id**, que permitirá utilizarmos representações de número inteiro para as tags."
   ]
  },
  {
   "cell_type": "code",
   "execution_count": 104,
   "metadata": {},
   "outputs": [],
   "source": [
    "def get_tag_vocabulary(tagged_words):\n",
    "    tag_id_map = {}\n",
    "    for item in tagged_words:\n",
    "        tag = item[1]\n",
    "        tag_id_map.setdefault(tag, len(tag_id_map))\n",
    "    return tag_id_map"
   ]
  },
  {
   "cell_type": "code",
   "execution_count": 105,
   "metadata": {},
   "outputs": [],
   "source": [
    "tag_id_map = get_tag_vocabulary(train_words)"
   ]
  },
  {
   "cell_type": "code",
   "execution_count": 106,
   "metadata": {},
   "outputs": [
    {
     "name": "stdout",
     "output_type": "stream",
     "text": [
      "{'N': 0, 'V': 1, 'PREP': 2, 'CUR': 3, 'NUM': 4, 'PREP+ART': 5, 'NPROP': 6, 'PU': 7, 'PROADJ': 8, 'PRO-KS': 9, 'ADJ': 10, 'KC': 11, 'ART': 12, 'KS': 13, 'PCP': 14, 'ADV': 15, 'PROPESS': 16, 'PREP+PROADJ': 17, 'PDEN': 18, 'PROSUB': 19, 'PREP+PROPESS': 20, 'ADV-KS': 21, 'PREP+PRO-KS': 22, 'PREP+PROSUB': 23, 'IN': 24, 'PREP+ADV': 25}\n"
     ]
    }
   ],
   "source": [
    "print(tag_id_map)"
   ]
  },
  {
   "cell_type": "markdown",
   "metadata": {},
   "source": [
    "De forma análoga, estruturaremos um mapa **palavra-id** a partir das palavras que possuem embeddings no nosso modelo SKIP-GRAM."
   ]
  },
  {
   "cell_type": "code",
   "execution_count": 107,
   "metadata": {},
   "outputs": [],
   "source": [
    "word_id_map = {key: value.index for key, value in word_vectors.vocab.items()}"
   ]
  },
  {
   "cell_type": "code",
   "execution_count": 108,
   "metadata": {},
   "outputs": [],
   "source": [
    "def add_new_word(new_word, new_vector, new_index, embedding_matrix, word_id_map):\n",
    "    embedding_matrix = np.insert(embedding_matrix, [new_index], [new_vector], axis=0)\n",
    "    word_id_map = {word: (index+1) if index >= new_index else index for word, index in word_id_map.items()}\n",
    "    word_id_map[new_word] = new_index\n",
    "    return embedding_matrix, word_id_map"
   ]
  },
  {
   "cell_type": "code",
   "execution_count": 109,
   "metadata": {},
   "outputs": [],
   "source": [
    "embedding_matrix = word_vectors.vectors"
   ]
  },
  {
   "cell_type": "code",
   "execution_count": 110,
   "metadata": {},
   "outputs": [],
   "source": [
    "UNK_INDEX = 0\n",
    "UNK_TOKEN = \"UNK\"\n",
    "PAD_INDEX = 1\n",
    "PAD_TOKEN = \"PAD\""
   ]
  },
  {
   "cell_type": "code",
   "execution_count": 111,
   "metadata": {},
   "outputs": [],
   "source": [
    "unk_vector = embedding_matrix.mean(0)\n",
    "embedding_matrix, word_id_map = add_new_word(UNK_TOKEN, unk_vector, UNK_INDEX, embedding_matrix, word_id_map)"
   ]
  },
  {
   "cell_type": "code",
   "execution_count": 112,
   "metadata": {},
   "outputs": [],
   "source": [
    "pad_vector = np.random.standard_normal(V_SIZE)\n",
    "embedding_matrix, word_id_map = add_new_word(PAD_TOKEN, pad_vector, PAD_INDEX, embedding_matrix, word_id_map)"
   ]
  },
  {
   "cell_type": "markdown",
   "metadata": {},
   "source": [
    "Para facilitar a recuperação dos dados durante a avaliação, também instanciaremos mapas com a relação inversa, isto é, **id-palavra** e **id-tag**."
   ]
  },
  {
   "cell_type": "code",
   "execution_count": 113,
   "metadata": {
    "scrolled": true
   },
   "outputs": [],
   "source": [
    "id_word_map = sorted(word_id_map, key=word_id_map.get)\n",
    "id_tag_map = sorted(tag_id_map, key=tag_id_map.get)"
   ]
  },
  {
   "cell_type": "markdown",
   "metadata": {},
   "source": [
    "<p style='text-align: justify;'>\n",
    "Em seguida, criaremos a nossa rede neural que fará o POS-Tagging a partir dos embeddings. A rede neural será implementada utilizando a API Keras da biblioteca TensorFlow, consistindo em uma rede de 6 camadas que recebe índices da matriz de embeddings como entrada, retornando uma distribuição de probabilidade após a função softmax. \n",
    "</p>"
   ]
  },
  {
   "cell_type": "code",
   "execution_count": 114,
   "metadata": {},
   "outputs": [],
   "source": [
    "HIDDEN_SIZE = 50\n",
    "WINDOW_SIZE = 2"
   ]
  },
  {
   "cell_type": "code",
   "execution_count": 115,
   "metadata": {},
   "outputs": [],
   "source": [
    "def get_window_int_data(tagged_words, word_id_map, tag_id_map):\n",
    "    X, Y = [], []\n",
    "    unk_count = 0\n",
    "    span = 2 * WINDOW_SIZE + 1\n",
    "    buffer = collections.deque(maxlen=span)\n",
    "    padding = [(PAD_TOKEN, None)] * WINDOW_SIZE\n",
    "    buffer += padding + tagged_words[:WINDOW_SIZE]\n",
    "\n",
    "    for item in (tagged_words[WINDOW_SIZE:] + padding):\n",
    "        buffer.append(item)\n",
    "        window_ids = np.array([word_id_map.get(word) if (word in word_id_map) else UNK_INDEX for (word, _) in buffer])\n",
    "        middle_word, middle_tag = buffer[WINDOW_SIZE]\n",
    "        X.append(window_ids)\n",
    "        Y.append(tag_id_map.get(middle_tag))\n",
    "        if middle_word not in word_id_map:\n",
    "            unk_count += 1\n",
    "            \n",
    "    print(\"Unknown word rate: %.4f\" % (unk_count/len(tagged_words)))\n",
    "    return np.array(X), np.array(Y)"
   ]
  },
  {
   "cell_type": "code",
   "execution_count": 116,
   "metadata": {},
   "outputs": [],
   "source": [
    "def tagger_nn_model(embedding_matrix, class_count):\n",
    "    vocab_length = len(embedding_matrix)\n",
    "    total_span = WINDOW_SIZE * 2 + 1\n",
    "    \n",
    "    model = Sequential()\n",
    "    model.add(Embedding(input_dim=vocab_length, output_dim=V_SIZE,\n",
    "                        weights=[embedding_matrix], input_length=total_span))\n",
    "    model.add(Flatten())\n",
    "    model.add(Dense(HIDDEN_SIZE))\n",
    "    model.add(Activation(\"tanh\"))\n",
    "    model.add(Dense(class_count))\n",
    "    model.add(Activation(\"softmax\"))\n",
    "\n",
    "    model.compile(optimizer=tf.optimizers.Adam(), loss=\"categorical_crossentropy\", metrics=[\"accuracy\"])\n",
    "    return model"
   ]
  },
  {
   "cell_type": "markdown",
   "metadata": {},
   "source": [
    "Após a estruturação da nossa rede neural com sensibilidade ao contexto, podemos prosseguir para o treino e avaliação."
   ]
  },
  {
   "cell_type": "code",
   "execution_count": 117,
   "metadata": {},
   "outputs": [
    {
     "name": "stdout",
     "output_type": "stream",
     "text": [
      "Unknown word rate: 0.0000\n",
      "Unknown word rate: 0.0000\n",
      "Unknown word rate: 0.0000\n"
     ]
    }
   ],
   "source": [
    "X_train, Y_train = get_window_int_data(train_words, word_id_map, tag_id_map)\n",
    "X_validation, Y_validation = get_window_int_data(validation_words, word_id_map, tag_id_map)\n",
    "X_test, Y_test = get_window_int_data(test_words, word_id_map, tag_id_map)"
   ]
  },
  {
   "cell_type": "code",
   "execution_count": 118,
   "metadata": {},
   "outputs": [],
   "source": [
    "Y_train, Y_validation, Y_test = to_categorical(Y_train), to_categorical(Y_validation), to_categorical(Y_test)"
   ]
  },
  {
   "cell_type": "markdown",
   "metadata": {},
   "source": [
    "Treino e Validação"
   ]
  },
  {
   "cell_type": "code",
   "execution_count": 119,
   "metadata": {},
   "outputs": [],
   "source": [
    "bs = [128, 256]\n",
    "ep = [1,2]\n",
    "\n",
    "for b in bs:\n",
    "    for e in ep:\n",
    "        print(\"Training model batch_size=\",b, \" epochs=\", e)\n",
    "        pos_tagging_model = tagger_nn_model(embedding_matrix, len(tag_id_map))\n",
    "        pos_tagging_model.fit(X_train, Y_train, batch_size = b, epochs=e, verbose=1)   \n",
    "        _, val_acc = pos_tagging_model.evaluate(X_validation, Y_validation)\n",
    "        print(\"Accuracy: \", val_acc)"
   ]
  },
  {
   "cell_type": "markdown",
   "metadata": {},
   "source": [
    "Utilizaremos então o melhor modelo constatado pela validação."
   ]
  },
  {
   "cell_type": "code",
   "execution_count": 120,
   "metadata": {
    "scrolled": true
   },
   "outputs": [
    {
     "name": "stdout",
     "output_type": "stream",
     "text": [
      "Epoch 1/2\n",
      "5692/5692 [==============================] - 336s 59ms/step - loss: 0.5087 - accuracy: 0.8563\n",
      "Epoch 2/2\n",
      "5692/5692 [==============================] - 346s 61ms/step - loss: 0.1214 - accuracy: 0.9655\n"
     ]
    },
    {
     "data": {
      "text/plain": [
       "<tensorflow.python.keras.callbacks.History at 0x11f1d88ffa0>"
      ]
     },
     "execution_count": 120,
     "metadata": {},
     "output_type": "execute_result"
    }
   ],
   "source": [
    "pos_tagging_model = tagger_nn_model(embedding_matrix, len(tag_id_map))\n",
    "pos_tagging_model.fit(X_train, Y_train, batch_size = 128, epochs=2, verbose=1)"
   ]
  },
  {
   "cell_type": "code",
   "execution_count": 121,
   "metadata": {
    "scrolled": true
   },
   "outputs": [
    {
     "name": "stdout",
     "output_type": "stream",
     "text": [
      "1216/1216 [==============================] - 1s 598us/step - loss: 0.1456 - accuracy: 0.9575\n"
     ]
    }
   ],
   "source": [
    "_, val_acc = pos_tagging_model.evaluate(X_validation, Y_validation)"
   ]
  },
  {
   "cell_type": "markdown",
   "metadata": {},
   "source": [
    "Teste"
   ]
  },
  {
   "cell_type": "code",
   "execution_count": 122,
   "metadata": {},
   "outputs": [],
   "source": [
    "def test_model(model, id_word_map, x_test, y_test):\n",
    "    _, acc = model.evaluate(x_test, y_test)\n",
    "    print(\"Accuracy: %.2f\" % acc)\n",
    "    \n",
    "    y_pred = model.predict_classes(x_test)\n",
    "    error_counter = collections.Counter()\n",
    "\n",
    "    tag_accuracy = {}\n",
    "    for key in id_tag_map:\n",
    "        tag_accuracy[key] = [0,0]\n",
    "\n",
    "    for i in range(len(x_test)):\n",
    "        correct_tag_id = np.argmax(y_test[i])\n",
    "        if y_pred[i] != correct_tag_id:\n",
    "            if isinstance(x_test[i], np.ndarray):\n",
    "                word = id_word_map[x_test[i][WINDOW_SIZE]]\n",
    "            else:\n",
    "                word = id_word_map[x_test[i]]\n",
    "            error_counter[word] += 1\n",
    "        else:\n",
    "            tag_accuracy[id_tag_map[correct_tag_id]][0] += 1\n",
    "        tag_accuracy[id_tag_map[correct_tag_id]][1] += 1\n",
    "    \n",
    "    for key,value in tag_accuracy.items():\n",
    "        tag_accuracy[key] = value[0]/value[1]\n",
    "    \n",
    "    return error_counter, tag_accuracy"
   ]
  },
  {
   "cell_type": "code",
   "execution_count": 123,
   "metadata": {
    "scrolled": false
   },
   "outputs": [
    {
     "name": "stdout",
     "output_type": "stream",
     "text": [
      "5575/5575 [==============================] - 3s 618us/step - loss: 0.1834 - accuracy: 0.9457\n",
      "Accuracy: 0.95\n"
     ]
    },
    {
     "name": "stderr",
     "output_type": "stream",
     "text": [
      "C:\\Users\\Box\\AppData\\Roaming\\Python\\Python38\\site-packages\\tensorflow\\python\\keras\\engine\\sequential.py:450: UserWarning: `model.predict_classes()` is deprecated and will be removed after 2021-01-01. Please use instead:* `np.argmax(model.predict(x), axis=-1)`,   if your model does multi-class classification   (e.g. if it uses a `softmax` last-layer activation).* `(model.predict(x) > 0.5).astype(\"int32\")`,   if your model does binary classification   (e.g. if it uses a `sigmoid` last-layer activation).\n",
      "  warnings.warn('`model.predict_classes()` is deprecated and '\n"
     ]
    }
   ],
   "source": [
    "error_counter, tag_accuracy = test_model(pos_tagging_model, id_word_map, X_test, Y_test)"
   ]
  },
  {
   "cell_type": "code",
   "execution_count": 124,
   "metadata": {},
   "outputs": [
    {
     "data": {
      "image/png": "[encoded data removed]",
      "text/plain": [
       "<Figure size 1152x720 with 1 Axes>"
      ]
     },
     "metadata": {},
     "output_type": "display_data"
    }
   ],
   "source": [
    "data = tag_accuracy\n",
    "\n",
    "plt.title('Acurácia por classe de tag') \n",
    "keys = list(data.keys())\n",
    "vals = [data[k] for k in keys]\n",
    "sns.set(rc={'figure.figsize':(16,10)})\n",
    "ax = sns.barplot(x=keys, y=vals, )\n",
    "ax.set_xticklabels(ax.get_xticklabels(), rotation=60)\n",
    "ax.set(xlabel='Classe ', ylabel='Acurácia')\n",
    "plt.show()"
   ]
  },
  {
   "cell_type": "markdown",
   "metadata": {},
   "source": [
    "A partir da avaliação, percebemos que as classes de `pontuação` (PU), `símbolo de moeda corrente` (CUR) e `artigo` (ART), foram os destaques positivos, obtendo acurácia muito próxima a 100%. Já as classes de `interjeição` (IN) e de `advérbio junto a pronome conectivo subordinativo` (ADV-KS) obtiveram destaque negativo em acurácia.\n",
    "\n",
    "Em geral, podemos dizer que as classes performaram muito bem, com apenas cinco delas classificadas com acurácia inferior à 80%."
   ]
  },
  {
   "cell_type": "code",
   "execution_count": 125,
   "metadata": {},
   "outputs": [
    {
     "data": {
      "image/png": "[encoded data removed]",
      "text/plain": [
       "<Figure size 1152x720 with 1 Axes>"
      ]
     },
     "metadata": {},
     "output_type": "display_data"
    }
   ],
   "source": [
    "data = error_counter.most_common(25)\n",
    "x = list(zip(*data))[0]\n",
    "y = list(zip(*data))[1]\n",
    "x_pos = np.arange(len(data)) \n",
    "\n",
    "plt.title('As 25 palavras com maior número de erros em classificação')\n",
    "plt.bar(x_pos, y ,align='center')\n",
    "plt.xticks(x_pos, x, rotation=45) \n",
    "plt.ylabel('Número de erros de classificação')\n",
    "plt.xlabel('Palavra')\n",
    "plt.show()"
   ]
  },
  {
   "cell_type": "markdown",
   "metadata": {},
   "source": [
    "O gráfico acima, por sua vez, apresenta as 25 palavras com maior número de erros na fase de teste. Podemos ver que a maioria delas está ligada à classe de preposição."
   ]
  },
  {
   "cell_type": "markdown",
   "metadata": {
    "_uuid": "a420d5a98eb860cff1f4bbac8cbe2054459b6200"
   },
   "source": [
    "## Considerações finais"
   ]
  },
  {
   "cell_type": "markdown",
   "metadata": {},
   "source": [
    "<p style=\"text-align: justify;\"> \n",
    "Através deste trabalho, tivemos a experiência de trabalhar com o corpus em português, executando a tarefa de POS-Tagging. Pudemos, novamente, exercitar o uso de embeddings obtidos através de um modelo SKIP-GRAM e o uso de redes neurais.\n",
    "<br><br>\n",
    "A partir dos embeddings, fomos capazes de gerar um modelo de POS-Tagging sensível ao contexto e eficiente, utilizando uma rede neural, que atingiu um desempenho bastante satisfatório na etapa de avaliação. Mantivemos em mente, ao longo do notebook, o tamanho do corpus utilizado e buscamos parâmetros razoáveis e formas de conseguir um modelo promissório. Segmentamos o macmorpho-v3, assim como sugerido pela estrutura de arquivos, em treino, validação e teste e, por meio da validação, encontramos parâmetros bons para a rede, com o objetivo de evitar problemas como overfit e underfit.\n",
    "<br><br>\n",
    "Assim como constadado na etapa de avaliação para o conjunto de teste, geramos gráficos que nos evidenciaram alguns aspectos interessantes sobre o modelo. Pudemos constatar o desempenho em classificação para cada classe gramatical do macmorpho, tendo visto que, em geral, obtivemos resultados muito satisfatórios para a grande maioria das classes. Para as classes com menor acurácia, acreditamos que, a partir de observações feitas ao longo do desenvolvimento deste notebook, taxas altas de erro revelam baixo número relativo de exemplos no corpus e a presença do fator ambiguidade dos termos.\n",
    "<br><br>\n",
    "Portanto, acreditamos que o trabalho apresentado neste notebook tenha sido uma experiência bastante enriquecedora.\n",
    "</p>"
   ]
  }
 ],
 "metadata": {
  "colab": {
   "name": "TP1 ML",
   "provenance": []
  },
  "kernelspec": {
   "display_name": "Python 3",
   "language": "python",
   "name": "python3"
  },
  "language_info": {
   "codemirror_mode": {
    "name": "ipython",
    "version": 3
   },
   "file_extension": ".py",
   "mimetype": "text/x-python",
   "name": "python",
   "nbconvert_exporter": "python",
   "pygments_lexer": "ipython3",
   "version": "3.8.3-final"
  }
 },
 "nbformat": 4,
 "nbformat_minor": 1
}