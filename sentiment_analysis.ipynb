{
 "cells": [
  {
   "cell_type": "markdown",
   "metadata": {},
   "source": [
    "# Análise de Sentimento com Embeddings Word2Vec e LSTM + CNN\n",
    "\n"
   ]
  },
  {
   "cell_type": "markdown",
   "metadata": {},
   "source": [
    "## Tema e relevância\n",
    "\n",
    "A tarefa de análise sentimento consiste no uso de artifícios de NLP para identificar, extrair, quantificar e estudar informação subjetiva. Por meio da análise de sentimento, buscamos identificar o caráter sentimental contido em um determinado texto, classificando-o de acordo com sua positividade ou negatividade.\n",
    "\n",
    "A análise de sentimento vê aplicação principalmente na identificação de sentimento em avaliações de produtos e serviços e em comentários em redes sociais. No meio comercial, esta técnica pode ser empregada por organizações para classificar o sentimento dos consumidores, utilizando posteriormente essa informação como material de apoio na elaboração de estratégias de marketing. Além disso, a técnica pode ser utilizada em chatbots e em redes sociais, identificando o caráter sentimental de mensagens e podendo utilizar esse dado posteriormente para análises. \n"
   ]
  },
  {
   "cell_type": "markdown",
   "metadata": {},
   "source": [
    "## Justificativa de escolha do dataset\n",
    "Tendo em vista as aplicações reais levantadas para a tarefa de análise de sentimento, selecionamos a base dados *Amazon Fine Food Reviews*, fornecida pelo *Stanford Network Analysis Project*. \n",
    "\n",
    "A base de dados escolhida para o projeto agrupa uma coleção de avaliações de produtos alimentícios, vendidos na Amazon ao longo de um período mais de 10 anos e conta com mais de 500 mil avaliações.\n",
    "\n",
    "Cada registro de avaliação contém informação sobre usuário avaliador, nota fornecida (variando de 1 a 5), texto incluído na avaliação, além de outros aspectos sobre a utilidade da avaliação em questão, na perspectiva de outros usuários.\n"
   ]
  },
  {
   "cell_type": "markdown",
   "metadata": {},
   "source": [
    "## Justificativa de escolha da solução\n",
    "\n",
    "Imaginamos que o uso de embeddings word2vec seja um ponto chave para obter um bom desempenho na classificação. Através do uso de vetores densos, os embeddings word2vec, como entrada para o nosso modelo preditivo, podemos obter representações interessantes para os sentimentos, isto é, palavras expressivas para a análise de sentimento. Além disso, podemos obter representações carregadas de semântica contextual, com boas aproximações mesmo para palavras não tão frequentes.\n",
    "\n",
    "O modelo preditivo implementado consiste em um modelo neural com duas camadas de LSTMs bidirecionais e uma CNN atuando com max pooling. Escolhemos esta arquitetura pra o projeto considerando a capacidade das LSTMs de considerar o contexto em memória para as decisões, juntamente à capacidade da CNN em observar características predominantes nas features, o sentimento. Mais a frente, na seção de predição, detalharemos mais a fundo a arquitetura utilizada.\n"
   ]
  },
  {
   "cell_type": "markdown",
   "metadata": {},
   "source": [
    "### Requisitos\n",
    "\n",
    "Bibliotecas\n",
    "* `Gensim`\n",
    "* `Nltk`\n",
    "* `Keras`\n",
    "* `Seaborn`\n",
    "* `SkLearn`\n",
    "* `bs4`\n",
    "\n",
    "Link para o corpus:\n",
    "https://www.kaggle.com/snap/amazon-fine-food-reviews\n"
   ]
  },
  {
   "cell_type": "code",
   "execution_count": 2,
   "metadata": {},
   "outputs": [],
   "source": [
    "import pandas as pd\n",
    "\n",
    "import numpy as np\n",
    "import multiprocessing\n",
    "import collections\n",
    "import re\n",
    "import os\n",
    "\n",
    "from bs4 import BeautifulSoup\n",
    "\n",
    "import matplotlib.pyplot as plt\n",
    "import seaborn as sns\n",
    "\n",
    "import nltk\n",
    "from nltk.tokenize import TweetTokenizer\n",
    "from nltk.corpus import stopwords\n",
    "from nltk.stem import SnowballStemmer\n",
    "\n",
    "import gensim\n",
    "from gensim.models import Word2Vec\n",
    "from gensim.models import KeyedVectors\n",
    "\n",
    "from tensorflow.keras.preprocessing.text import Tokenizer\n",
    "from tensorflow.keras.preprocessing.sequence import pad_sequences\n",
    "from tensorflow.keras.models import Sequential\n",
    "from tensorflow.keras.layers import Activation, Dense, Dropout, Embedding, GlobalMaxPool1D, MaxPooling1D, Conv1D, LSTM, Bidirectional\n",
    "from tensorflow.keras import utils\n",
    "from tensorflow.keras.callbacks import ReduceLROnPlateau, EarlyStopping\n",
    "\n",
    "from sklearn.model_selection import train_test_split\n",
    "\n",
    "import warnings\n",
    "warnings.filterwarnings('ignore')\n",
    "\n",
    "import logging\n",
    "logging.basicConfig(format='%(asctime)s : %(levelname)s : %(message)s', level=logging.INFO)"
   ]
  },
  {
   "cell_type": "code",
   "execution_count": 3,
   "metadata": {},
   "outputs": [],
   "source": [
    "# os.environ['TF_XLA_FLAGS'] = '--tf_xla_enable_xla_devices'"
   ]
  },
  {
   "cell_type": "code",
   "execution_count": 4,
   "metadata": {},
   "outputs": [],
   "source": [
    "# from tensorflow.python.client import device_lib\n",
    "# device_lib.list_local_devices()"
   ]
  },
  {
   "cell_type": "code",
   "execution_count": 5,
   "metadata": {
    "scrolled": true
   },
   "outputs": [
    {
     "name": "stderr",
     "output_type": "stream",
     "text": [
      "[nltk_data] Downloading package stopwords to\n",
      "[nltk_data]     C:\\Users\\Box\\AppData\\Roaming\\nltk_data...\n",
      "[nltk_data]   Package stopwords is already up-to-date!\n"
     ]
    },
    {
     "data": {
      "text/plain": [
       "True"
      ]
     },
     "execution_count": 5,
     "metadata": {},
     "output_type": "execute_result"
    }
   ],
   "source": [
    "nltk.download('stopwords')"
   ]
  },
  {
   "cell_type": "markdown",
   "metadata": {},
   "source": [
    "## Carregando o dataset"
   ]
  },
  {
   "cell_type": "code",
   "execution_count": 6,
   "metadata": {
    "scrolled": true
   },
   "outputs": [],
   "source": [
    "amazon_raw_data = pd.read_csv('./input/Reviews.csv', encoding = \"ISO-8859-1\")"
   ]
  },
  {
   "cell_type": "markdown",
   "metadata": {},
   "source": [
    "## Análise dos dados"
   ]
  },
  {
   "cell_type": "code",
   "execution_count": 7,
   "metadata": {},
   "outputs": [
    {
     "name": "stdout",
     "output_type": "stream",
     "text": [
      "A base de dados contém  568454  avaliações\n"
     ]
    }
   ],
   "source": [
    "print(\"A base de dados contém \",amazon_raw_data.Text.count(),\" avaliações\")"
   ]
  },
  {
   "cell_type": "code",
   "execution_count": 8,
   "metadata": {
    "scrolled": true
   },
   "outputs": [
    {
     "data": {
      "text/html": [
       "<div>\n",
       "<style scoped>\n",
       "    .dataframe tbody tr th:only-of-type {\n",
       "        vertical-align: middle;\n",
       "    }\n",
       "\n",
       "    .dataframe tbody tr th {\n",
       "        vertical-align: top;\n",
       "    }\n",
       "\n",
       "    .dataframe thead th {\n",
       "        text-align: right;\n",
       "    }\n",
       "</style>\n",
       "<table border=\"1\" class=\"dataframe\">\n",
       "  <thead>\n",
       "    <tr style=\"text-align: right;\">\n",
       "      <th></th>\n",
       "      <th>Id</th>\n",
       "      <th>HelpfulnessNumerator</th>\n",
       "      <th>HelpfulnessDenominator</th>\n",
       "      <th>Score</th>\n",
       "      <th>Time</th>\n",
       "    </tr>\n",
       "  </thead>\n",
       "  <tbody>\n",
       "    <tr>\n",
       "      <th>count</th>\n",
       "      <td>568454.000000</td>\n",
       "      <td>568454.000000</td>\n",
       "      <td>568454.00000</td>\n",
       "      <td>568454.000000</td>\n",
       "      <td>5.684540e+05</td>\n",
       "    </tr>\n",
       "    <tr>\n",
       "      <th>mean</th>\n",
       "      <td>284227.500000</td>\n",
       "      <td>1.743817</td>\n",
       "      <td>2.22881</td>\n",
       "      <td>4.183199</td>\n",
       "      <td>1.296257e+09</td>\n",
       "    </tr>\n",
       "    <tr>\n",
       "      <th>std</th>\n",
       "      <td>164098.679298</td>\n",
       "      <td>7.636513</td>\n",
       "      <td>8.28974</td>\n",
       "      <td>1.310436</td>\n",
       "      <td>4.804331e+07</td>\n",
       "    </tr>\n",
       "    <tr>\n",
       "      <th>min</th>\n",
       "      <td>1.000000</td>\n",
       "      <td>0.000000</td>\n",
       "      <td>0.00000</td>\n",
       "      <td>1.000000</td>\n",
       "      <td>9.393408e+08</td>\n",
       "    </tr>\n",
       "    <tr>\n",
       "      <th>25%</th>\n",
       "      <td>142114.250000</td>\n",
       "      <td>0.000000</td>\n",
       "      <td>0.00000</td>\n",
       "      <td>4.000000</td>\n",
       "      <td>1.271290e+09</td>\n",
       "    </tr>\n",
       "    <tr>\n",
       "      <th>50%</th>\n",
       "      <td>284227.500000</td>\n",
       "      <td>0.000000</td>\n",
       "      <td>1.00000</td>\n",
       "      <td>5.000000</td>\n",
       "      <td>1.311120e+09</td>\n",
       "    </tr>\n",
       "    <tr>\n",
       "      <th>75%</th>\n",
       "      <td>426340.750000</td>\n",
       "      <td>2.000000</td>\n",
       "      <td>2.00000</td>\n",
       "      <td>5.000000</td>\n",
       "      <td>1.332720e+09</td>\n",
       "    </tr>\n",
       "    <tr>\n",
       "      <th>max</th>\n",
       "      <td>568454.000000</td>\n",
       "      <td>866.000000</td>\n",
       "      <td>923.00000</td>\n",
       "      <td>5.000000</td>\n",
       "      <td>1.351210e+09</td>\n",
       "    </tr>\n",
       "  </tbody>\n",
       "</table>\n",
       "</div>"
      ],
      "text/plain": [
       "                  Id  HelpfulnessNumerator  HelpfulnessDenominator  \\\n",
       "count  568454.000000         568454.000000            568454.00000   \n",
       "mean   284227.500000              1.743817                 2.22881   \n",
       "std    164098.679298              7.636513                 8.28974   \n",
       "min         1.000000              0.000000                 0.00000   \n",
       "25%    142114.250000              0.000000                 0.00000   \n",
       "50%    284227.500000              0.000000                 1.00000   \n",
       "75%    426340.750000              2.000000                 2.00000   \n",
       "max    568454.000000            866.000000               923.00000   \n",
       "\n",
       "               Score          Time  \n",
       "count  568454.000000  5.684540e+05  \n",
       "mean        4.183199  1.296257e+09  \n",
       "std         1.310436  4.804331e+07  \n",
       "min         1.000000  9.393408e+08  \n",
       "25%         4.000000  1.271290e+09  \n",
       "50%         5.000000  1.311120e+09  \n",
       "75%         5.000000  1.332720e+09  \n",
       "max         5.000000  1.351210e+09  "
      ]
     },
     "execution_count": 8,
     "metadata": {},
     "output_type": "execute_result"
    }
   ],
   "source": [
    "amazon_raw_data.describe()"
   ]
  },
  {
   "cell_type": "code",
   "execution_count": 9,
   "metadata": {},
   "outputs": [
    {
     "name": "stdout",
     "output_type": "stream",
     "text": [
      "\n"
     ]
    },
    {
     "data": {
      "image/png": "[encoded data removed]",
      "text/plain": [
       "<Figure size 1152x648 with 2 Axes>"
      ]
     },
     "metadata": {
      "needs_background": "light"
     },
     "output_type": "display_data"
    }
   ],
   "source": [
    "corr = amazon_raw_data.corr()\n",
    "fig, ax = plt.subplots(figsize=(16,9))\n",
    "sns.heatmap(corr, xticklabels=corr.columns, yticklabels=corr.columns, ax=ax, vmin=0.0, vmax=1.0)\n",
    "plt.title(\"Correlação entre os campos da base\")\n",
    "print()"
   ]
  },
  {
   "cell_type": "code",
   "execution_count": 10,
   "metadata": {
    "scrolled": false
   },
   "outputs": [
    {
     "data": {
      "image/png": "[encoded data removed]",
      "text/plain": [
       "<Figure size 1152x648 with 1 Axes>"
      ]
     },
     "metadata": {},
     "output_type": "display_data"
    }
   ],
   "source": [
    "score_count = collections.Counter(amazon_raw_data['Score'])\n",
    "\n",
    "keys = list(score_count.keys())\n",
    "vals = [score_count[k] for k in keys]\n",
    "sns.set(rc={'figure.figsize':(16,9)})\n",
    "ax = sns.barplot(x=keys, y=vals, palette=\"rocket\")\n",
    "ax.set_xticklabels(ax.get_xticklabels())\n",
    "ax.set(xlabel='Notas de avaliação', ylabel='Quantidade')\n",
    "plt.title(\"Distribuição das notas de avaliação\")\n",
    "plt.show()"
   ]
  },
  {
   "cell_type": "markdown",
   "metadata": {},
   "source": [
    "Podemos perceber uma forte desbalanceamento na distribuição de notas de avaliação. Levaremos este aspecto em consideração durante as próximas etapas."
   ]
  },
  {
   "cell_type": "markdown",
   "metadata": {},
   "source": [
    "## Pré Processamento"
   ]
  },
  {
   "cell_type": "markdown",
   "metadata": {},
   "source": [
    "### Removendo colunas desnecessárias\n",
    "\n",
    "Para a tarefa que vamos realizar, precisaremos apenas da colunas contendo o corpo e a nota da avaliação."
   ]
  },
  {
   "cell_type": "code",
   "execution_count": 11,
   "metadata": {},
   "outputs": [],
   "source": [
    "amazon_data = amazon_raw_data[['Text','Score']]"
   ]
  },
  {
   "cell_type": "code",
   "execution_count": 12,
   "metadata": {},
   "outputs": [
    {
     "data": {
      "text/html": [
       "<div>\n",
       "<style scoped>\n",
       "    .dataframe tbody tr th:only-of-type {\n",
       "        vertical-align: middle;\n",
       "    }\n",
       "\n",
       "    .dataframe tbody tr th {\n",
       "        vertical-align: top;\n",
       "    }\n",
       "\n",
       "    .dataframe thead th {\n",
       "        text-align: right;\n",
       "    }\n",
       "</style>\n",
       "<table border=\"1\" class=\"dataframe\">\n",
       "  <thead>\n",
       "    <tr style=\"text-align: right;\">\n",
       "      <th></th>\n",
       "      <th>Text</th>\n",
       "      <th>Score</th>\n",
       "    </tr>\n",
       "  </thead>\n",
       "  <tbody>\n",
       "    <tr>\n",
       "      <th>0</th>\n",
       "      <td>I have bought several of the Vitality canned d...</td>\n",
       "      <td>5</td>\n",
       "    </tr>\n",
       "    <tr>\n",
       "      <th>1</th>\n",
       "      <td>Product arrived labeled as Jumbo Salted Peanut...</td>\n",
       "      <td>1</td>\n",
       "    </tr>\n",
       "    <tr>\n",
       "      <th>2</th>\n",
       "      <td>This is a confection that has been around a fe...</td>\n",
       "      <td>4</td>\n",
       "    </tr>\n",
       "    <tr>\n",
       "      <th>3</th>\n",
       "      <td>If you are looking for the secret ingredient i...</td>\n",
       "      <td>2</td>\n",
       "    </tr>\n",
       "    <tr>\n",
       "      <th>4</th>\n",
       "      <td>Great taffy at a great price.  There was a wid...</td>\n",
       "      <td>5</td>\n",
       "    </tr>\n",
       "  </tbody>\n",
       "</table>\n",
       "</div>"
      ],
      "text/plain": [
       "                                                Text  Score\n",
       "0  I have bought several of the Vitality canned d...      5\n",
       "1  Product arrived labeled as Jumbo Salted Peanut...      1\n",
       "2  This is a confection that has been around a fe...      4\n",
       "3  If you are looking for the secret ingredient i...      2\n",
       "4  Great taffy at a great price.  There was a wid...      5"
      ]
     },
     "execution_count": 12,
     "metadata": {},
     "output_type": "execute_result"
    }
   ],
   "source": [
    "amazon_data.head(5)"
   ]
  },
  {
   "cell_type": "markdown",
   "metadata": {},
   "source": [
    "### Modificando a granularidade das notas\n",
    "\n",
    "Iremos transformar a situação para classificação binária. Para isso, eliminaremos as avaliações neutras (nota 3) e agruparemos as positivas e negativas em dois grupos, definidos por 1 e 0, respectivamente."
   ]
  },
  {
   "cell_type": "code",
   "execution_count": 13,
   "metadata": {},
   "outputs": [
    {
     "name": "stderr",
     "output_type": "stream",
     "text": [
      "2021-03-23 15:02:25,562 : INFO : NumExpr defaulting to 4 threads.\n"
     ]
    }
   ],
   "source": [
    "score_dict = {1:0, 2:0, 4:1, 5:1}\n",
    "amazon_data = amazon_data[amazon_data['Score'] != 3]\n",
    "amazon_data['pScore'] = amazon_data['Score'].map(score_dict)"
   ]
  },
  {
   "cell_type": "code",
   "execution_count": 14,
   "metadata": {
    "scrolled": true
   },
   "outputs": [
    {
     "data": {
      "text/html": [
       "<div>\n",
       "<style scoped>\n",
       "    .dataframe tbody tr th:only-of-type {\n",
       "        vertical-align: middle;\n",
       "    }\n",
       "\n",
       "    .dataframe tbody tr th {\n",
       "        vertical-align: top;\n",
       "    }\n",
       "\n",
       "    .dataframe thead th {\n",
       "        text-align: right;\n",
       "    }\n",
       "</style>\n",
       "<table border=\"1\" class=\"dataframe\">\n",
       "  <thead>\n",
       "    <tr style=\"text-align: right;\">\n",
       "      <th></th>\n",
       "      <th>Text</th>\n",
       "      <th>Score</th>\n",
       "      <th>pScore</th>\n",
       "    </tr>\n",
       "  </thead>\n",
       "  <tbody>\n",
       "    <tr>\n",
       "      <th>0</th>\n",
       "      <td>I have bought several of the Vitality canned d...</td>\n",
       "      <td>5</td>\n",
       "      <td>1</td>\n",
       "    </tr>\n",
       "    <tr>\n",
       "      <th>1</th>\n",
       "      <td>Product arrived labeled as Jumbo Salted Peanut...</td>\n",
       "      <td>1</td>\n",
       "      <td>0</td>\n",
       "    </tr>\n",
       "    <tr>\n",
       "      <th>2</th>\n",
       "      <td>This is a confection that has been around a fe...</td>\n",
       "      <td>4</td>\n",
       "      <td>1</td>\n",
       "    </tr>\n",
       "    <tr>\n",
       "      <th>3</th>\n",
       "      <td>If you are looking for the secret ingredient i...</td>\n",
       "      <td>2</td>\n",
       "      <td>0</td>\n",
       "    </tr>\n",
       "    <tr>\n",
       "      <th>4</th>\n",
       "      <td>Great taffy at a great price.  There was a wid...</td>\n",
       "      <td>5</td>\n",
       "      <td>1</td>\n",
       "    </tr>\n",
       "  </tbody>\n",
       "</table>\n",
       "</div>"
      ],
      "text/plain": [
       "                                                Text  Score  pScore\n",
       "0  I have bought several of the Vitality canned d...      5       1\n",
       "1  Product arrived labeled as Jumbo Salted Peanut...      1       0\n",
       "2  This is a confection that has been around a fe...      4       1\n",
       "3  If you are looking for the secret ingredient i...      2       0\n",
       "4  Great taffy at a great price.  There was a wid...      5       1"
      ]
     },
     "execution_count": 14,
     "metadata": {},
     "output_type": "execute_result"
    }
   ],
   "source": [
    "amazon_data.head()"
   ]
  },
  {
   "cell_type": "markdown",
   "metadata": {},
   "source": [
    "### Stopwords"
   ]
  },
  {
   "cell_type": "code",
   "execution_count": 15,
   "metadata": {},
   "outputs": [],
   "source": [
    "stopword_list=stopwords.words('english')"
   ]
  },
  {
   "cell_type": "code",
   "execution_count": 16,
   "metadata": {},
   "outputs": [
    {
     "name": "stdout",
     "output_type": "stream",
     "text": [
      "['i', 'me', 'my', 'myself', 'we', 'our', 'ours', 'ourselves', 'you', \"you're\", \"you've\", \"you'll\", \"you'd\", 'your', 'yours', 'yourself', 'yourselves', 'he', 'him', 'his', 'himself', 'she', \"she's\", 'her', 'hers', 'herself', 'it', \"it's\", 'its', 'itself', 'they', 'them', 'their', 'theirs', 'themselves', 'what', 'which', 'who', 'whom', 'this', 'that', \"that'll\", 'these', 'those', 'am', 'is', 'are', 'was', 'were', 'be', 'been', 'being', 'have', 'has', 'had', 'having', 'do', 'does', 'did', 'doing', 'a', 'an', 'the', 'and', 'but', 'if', 'or', 'because', 'as', 'until', 'while', 'of', 'at', 'by', 'for', 'with', 'about', 'against', 'between', 'into', 'through', 'during', 'before', 'after', 'above', 'below', 'to', 'from', 'up', 'down', 'in', 'out', 'on', 'off', 'over', 'under', 'again', 'further', 'then', 'once', 'here', 'there', 'when', 'where', 'why', 'how', 'all', 'any', 'both', 'each', 'few', 'more', 'most', 'other', 'some', 'such', 'no', 'nor', 'not', 'only', 'own', 'same', 'so', 'than', 'too', 'very', 's', 't', 'can', 'will', 'just', 'don', \"don't\", 'should', \"should've\", 'now', 'd', 'll', 'm', 'o', 're', 've', 'y', 'ain', 'aren', \"aren't\", 'couldn', \"couldn't\", 'didn', \"didn't\", 'doesn', \"doesn't\", 'hadn', \"hadn't\", 'hasn', \"hasn't\", 'haven', \"haven't\", 'isn', \"isn't\", 'ma', 'mightn', \"mightn't\", 'mustn', \"mustn't\", 'needn', \"needn't\", 'shan', \"shan't\", 'shouldn', \"shouldn't\", 'wasn', \"wasn't\", 'weren', \"weren't\", 'won', \"won't\", 'wouldn', \"wouldn't\"]\n"
     ]
    }
   ],
   "source": [
    "print(stopword_list)"
   ]
  },
  {
   "cell_type": "markdown",
   "metadata": {},
   "source": [
    "Como podemos ver, dentro do conjunto de stopwords existem muitos termos que poderiam ser de impacto expressivo na semântica das avaliações. As stopwords, em sua maioria, possuem o papel de negação e isso é extremamente impactante para a aplicação que estamos buscando.\n",
    "\n",
    "Desta forma, manteremos as stopwords no texto."
   ]
  },
  {
   "cell_type": "markdown",
   "metadata": {},
   "source": [
    "### Lower casing,  stemming, expandindo contrações e remoção de ruídos\n",
    "\n",
    "Como pré processamento do texto, para bons resultados com os embeddings e, consequentemente, com o modelo preditivo, realizaremos as seguintes operações:\n",
    "\n",
    "- `Lower casing`: todas as palavras em forma minúscula\n",
    "- `Stemming`: redução de palavras flexionadas ao seu radical\n",
    "- `Expansão de contrações`: expansão de contrações como *can't* para cannot\n",
    "- `Remoção de ruídos`: remoção de tags html encontradas dentro do texto"
   ]
  },
  {
   "cell_type": "code",
   "execution_count": 17,
   "metadata": {},
   "outputs": [],
   "source": [
    "stemmer = SnowballStemmer(\"english\")"
   ]
  },
  {
   "cell_type": "code",
   "execution_count": 18,
   "metadata": {},
   "outputs": [],
   "source": [
    "contractions = pd.read_csv('./input/contractions.csv', index_col='Contraction')\n",
    "contractions.index = contractions.index.str.lower()\n",
    "contractions.Meaning = contractions.Meaning.str.lower()\n",
    "contractions_dict = contractions.to_dict()['Meaning']"
   ]
  },
  {
   "cell_type": "code",
   "execution_count": 19,
   "metadata": {},
   "outputs": [
    {
     "data": {
      "text/html": [
       "<div>\n",
       "<style scoped>\n",
       "    .dataframe tbody tr th:only-of-type {\n",
       "        vertical-align: middle;\n",
       "    }\n",
       "\n",
       "    .dataframe tbody tr th {\n",
       "        vertical-align: top;\n",
       "    }\n",
       "\n",
       "    .dataframe thead th {\n",
       "        text-align: right;\n",
       "    }\n",
       "</style>\n",
       "<table border=\"1\" class=\"dataframe\">\n",
       "  <thead>\n",
       "    <tr style=\"text-align: right;\">\n",
       "      <th></th>\n",
       "      <th>Meaning</th>\n",
       "    </tr>\n",
       "    <tr>\n",
       "      <th>Contraction</th>\n",
       "      <th></th>\n",
       "    </tr>\n",
       "  </thead>\n",
       "  <tbody>\n",
       "    <tr>\n",
       "      <th>'aight</th>\n",
       "      <td>alright</td>\n",
       "    </tr>\n",
       "    <tr>\n",
       "      <th>ain't</th>\n",
       "      <td>is not</td>\n",
       "    </tr>\n",
       "    <tr>\n",
       "      <th>amn't</th>\n",
       "      <td>am not</td>\n",
       "    </tr>\n",
       "    <tr>\n",
       "      <th>aren't</th>\n",
       "      <td>are not</td>\n",
       "    </tr>\n",
       "    <tr>\n",
       "      <th>can't</th>\n",
       "      <td>cannot</td>\n",
       "    </tr>\n",
       "  </tbody>\n",
       "</table>\n",
       "</div>"
      ],
      "text/plain": [
       "             Meaning\n",
       "Contraction         \n",
       "'aight       alright\n",
       "ain't         is not\n",
       "amn't         am not\n",
       "aren't       are not\n",
       "can't         cannot"
      ]
     },
     "execution_count": 19,
     "metadata": {},
     "output_type": "execute_result"
    }
   ],
   "source": [
    "contractions.head(5)"
   ]
  },
  {
   "cell_type": "code",
   "execution_count": 20,
   "metadata": {},
   "outputs": [],
   "source": [
    "def strip_html(text):\n",
    "    soup = BeautifulSoup(text, \"html.parser\")\n",
    "    return soup.get_text()\n",
    "\n",
    "def preprocess_text(text, stemming=True, stopwords_removal=False):\n",
    "    text = strip_html(text).lower()\n",
    "    text = re.sub('\\[[^]]*\\]', '', text)\n",
    "    text = re.sub('([.,!?()])', r' \\1 ', text)\n",
    "    \n",
    "    for contraction, replacement in contractions_dict.items():\n",
    "        text = text.replace(contraction, replacement)\n",
    "        \n",
    "    tokens = []\n",
    "    for token in text.split():\n",
    "        if stopwords_removal:\n",
    "            if token in stopword_list:\n",
    "                continue\n",
    "        if stemming:\n",
    "            tokens.append(stemmer.stem(token))\n",
    "        else:\n",
    "            tokens.append(token)\n",
    "    return \" \".join(tokens)"
   ]
  },
  {
   "cell_type": "code",
   "execution_count": 21,
   "metadata": {},
   "outputs": [
    {
     "data": {
      "text/plain": [
       "[\"I don't know if it's the cactus or the tequila or just the unique combination of ingredients, but the flavour of this hot sauce makes it one of a kind!  We picked up a bottle once on a trip we were on and brought it back home with us and were totally blown away!  When we realized that we simply couldn't find it anywhere in our city we were bummed.<br /><br />Now, because of the magic of the internet, we have a case of the sauce and are ecstatic because of it.<br /><br />If you love hot sauce..I mean really love hot sauce, but don't want a sauce that tastelessly burns your throat, grab a bottle of Tequila Picante Gourmet de Inclan.  Just realize that once you taste it, you will never want to use any other sauce.<br /><br />Thank you for the personal, incredible service!\"]"
      ]
     },
     "execution_count": 21,
     "metadata": {},
     "output_type": "execute_result"
    }
   ],
   "source": [
    "list(amazon_data.iloc[[10]]['Text'])"
   ]
  },
  {
   "cell_type": "code",
   "execution_count": 22,
   "metadata": {},
   "outputs": [
    {
     "name": "stdout",
     "output_type": "stream",
     "text": [
      "Wall time: 8min 25s\n"
     ]
    }
   ],
   "source": [
    "%%time\n",
    "amazon_data['pText'] = amazon_data['Text'].apply(preprocess_text)"
   ]
  },
  {
   "cell_type": "code",
   "execution_count": 23,
   "metadata": {
    "scrolled": true
   },
   "outputs": [
    {
     "data": {
      "text/plain": [
       "['i do not know if it is the cactus or the tequila or just the uniqu combin of ingredi , but the flavour of this hot sauc make it one of a kind ! we pick up a bottl onc on a trip we were on and brought it back home with us and were total blown away ! when we realiz that we simpli could not find it anywher in our citi we were bum . now , becaus of the magic of the internet , we have a case of the sauc and are ecstat becaus of it . if you love hot sauc . . i mean realli love hot sauc , but do not want a sauc that tasteless burn your throat , grab a bottl of tequila picant gourmet de inclan . just realiz that onc you tast it , you will never want to use ani other sauc . thank you for the person , incred servic !']"
      ]
     },
     "execution_count": 23,
     "metadata": {},
     "output_type": "execute_result"
    }
   ],
   "source": [
    "list(amazon_data.iloc[[10]]['pText'])"
   ]
  },
  {
   "cell_type": "code",
   "execution_count": 24,
   "metadata": {},
   "outputs": [
    {
     "data": {
      "text/html": [
       "<div>\n",
       "<style scoped>\n",
       "    .dataframe tbody tr th:only-of-type {\n",
       "        vertical-align: middle;\n",
       "    }\n",
       "\n",
       "    .dataframe tbody tr th {\n",
       "        vertical-align: top;\n",
       "    }\n",
       "\n",
       "    .dataframe thead th {\n",
       "        text-align: right;\n",
       "    }\n",
       "</style>\n",
       "<table border=\"1\" class=\"dataframe\">\n",
       "  <thead>\n",
       "    <tr style=\"text-align: right;\">\n",
       "      <th></th>\n",
       "      <th>Text</th>\n",
       "      <th>Score</th>\n",
       "      <th>pScore</th>\n",
       "      <th>pText</th>\n",
       "    </tr>\n",
       "  </thead>\n",
       "  <tbody>\n",
       "    <tr>\n",
       "      <th>0</th>\n",
       "      <td>I have bought several of the Vitality canned d...</td>\n",
       "      <td>5</td>\n",
       "      <td>1</td>\n",
       "      <td>i have bought sever of the vital can dog food ...</td>\n",
       "    </tr>\n",
       "    <tr>\n",
       "      <th>1</th>\n",
       "      <td>Product arrived labeled as Jumbo Salted Peanut...</td>\n",
       "      <td>1</td>\n",
       "      <td>0</td>\n",
       "      <td>product arriv label as jumbo salt peanut . . ....</td>\n",
       "    </tr>\n",
       "    <tr>\n",
       "      <th>2</th>\n",
       "      <td>This is a confection that has been around a fe...</td>\n",
       "      <td>4</td>\n",
       "      <td>1</td>\n",
       "      <td>this is a confect that has been around a few c...</td>\n",
       "    </tr>\n",
       "    <tr>\n",
       "      <th>3</th>\n",
       "      <td>If you are looking for the secret ingredient i...</td>\n",
       "      <td>2</td>\n",
       "      <td>0</td>\n",
       "      <td>if you are look for the secret ingredi in robi...</td>\n",
       "    </tr>\n",
       "    <tr>\n",
       "      <th>4</th>\n",
       "      <td>Great taffy at a great price.  There was a wid...</td>\n",
       "      <td>5</td>\n",
       "      <td>1</td>\n",
       "      <td>great taffi at a great price . there was a wid...</td>\n",
       "    </tr>\n",
       "  </tbody>\n",
       "</table>\n",
       "</div>"
      ],
      "text/plain": [
       "                                                Text  Score  pScore  \\\n",
       "0  I have bought several of the Vitality canned d...      5       1   \n",
       "1  Product arrived labeled as Jumbo Salted Peanut...      1       0   \n",
       "2  This is a confection that has been around a fe...      4       1   \n",
       "3  If you are looking for the secret ingredient i...      2       0   \n",
       "4  Great taffy at a great price.  There was a wid...      5       1   \n",
       "\n",
       "                                               pText  \n",
       "0  i have bought sever of the vital can dog food ...  \n",
       "1  product arriv label as jumbo salt peanut . . ....  \n",
       "2  this is a confect that has been around a few c...  \n",
       "3  if you are look for the secret ingredi in robi...  \n",
       "4  great taffi at a great price . there was a wid...  "
      ]
     },
     "execution_count": 24,
     "metadata": {},
     "output_type": "execute_result"
    }
   ],
   "source": [
    "amazon_data.head()"
   ]
  },
  {
   "cell_type": "code",
   "execution_count": 25,
   "metadata": {},
   "outputs": [
    {
     "data": {
      "text/plain": [
       "525814"
      ]
     },
     "execution_count": 25,
     "metadata": {},
     "output_type": "execute_result"
    }
   ],
   "source": [
    "len(amazon_data)"
   ]
  },
  {
   "cell_type": "markdown",
   "metadata": {},
   "source": [
    "## Dividindo o dado em conjuntos de treino e teste\n",
    "Divisão 90 (treino + validação) - 10 (teste)"
   ]
  },
  {
   "cell_type": "code",
   "execution_count": 26,
   "metadata": {},
   "outputs": [],
   "source": [
    "train_reviews, test_reviews, train_scores, test_scores = train_test_split(amazon_data['pText'], amazon_data['pScore'], test_size=0.1, random_state=5)"
   ]
  },
  {
   "cell_type": "code",
   "execution_count": 27,
   "metadata": {},
   "outputs": [
    {
     "name": "stdout",
     "output_type": "stream",
     "text": [
      "(473232,) (473232,)\n",
      "(52582,) (52582,)\n"
     ]
    }
   ],
   "source": [
    "print(train_reviews.shape,train_scores.shape)\n",
    "print(test_reviews.shape,test_scores.shape)"
   ]
  },
  {
   "cell_type": "code",
   "execution_count": 28,
   "metadata": {},
   "outputs": [
    {
     "data": {
      "text/plain": [
       "36392     i purchas the miracl noodl spinach angel hair ...\n",
       "276543    this is great stuff , all of the pace salsai a...\n",
       "34530     i start drink coffe at the age of 2 when my gr...\n",
       "119341    a veri good combin of chocol and chai . great ...\n",
       "472414    after have to give up coffe , and realli miss ...\n",
       "Name: pText, dtype: object"
      ]
     },
     "execution_count": 28,
     "metadata": {},
     "output_type": "execute_result"
    }
   ],
   "source": [
    "train_reviews.head()"
   ]
  },
  {
   "cell_type": "code",
   "execution_count": 29,
   "metadata": {},
   "outputs": [
    {
     "data": {
      "text/plain": [
       "36392     1\n",
       "276543    1\n",
       "34530     1\n",
       "119341    1\n",
       "472414    1\n",
       "Name: pScore, dtype: int64"
      ]
     },
     "execution_count": 29,
     "metadata": {},
     "output_type": "execute_result"
    }
   ],
   "source": [
    "train_scores.head()"
   ]
  },
  {
   "cell_type": "markdown",
   "metadata": {},
   "source": [
    "Como existe um desbalanceamento na distribuição de notas, vamos calcular os pesos das classes para uso posterior"
   ]
  },
  {
   "cell_type": "code",
   "execution_count": 30,
   "metadata": {},
   "outputs": [],
   "source": [
    "aux = train_scores.value_counts().to_dict()\n",
    "max_val = aux[max(aux, key=aux.get)]\n",
    "aux.update((x, max_val/y) for x, y in aux.items())"
   ]
  },
  {
   "cell_type": "code",
   "execution_count": 31,
   "metadata": {},
   "outputs": [],
   "source": [
    "c_weights = aux"
   ]
  },
  {
   "cell_type": "code",
   "execution_count": 32,
   "metadata": {},
   "outputs": [
    {
     "data": {
      "text/plain": [
       "{1: 1.0, 0: 5.403593997374866}"
      ]
     },
     "execution_count": 32,
     "metadata": {},
     "output_type": "execute_result"
    }
   ],
   "source": [
    "c_weights"
   ]
  },
  {
   "cell_type": "markdown",
   "metadata": {},
   "source": [
    "## Embeddings com SKIP-GRAM\n"
   ]
  },
  {
   "cell_type": "code",
   "execution_count": 33,
   "metadata": {},
   "outputs": [],
   "source": [
    "LOADING_W2V_MODEL = True"
   ]
  },
  {
   "cell_type": "code",
   "execution_count": 34,
   "metadata": {},
   "outputs": [
    {
     "name": "stdout",
     "output_type": "stream",
     "text": [
      "Wall time: 4.74 s\n"
     ]
    }
   ],
   "source": [
    "%%time\n",
    "reviews = list(map(lambda x: x.split(), train_reviews))"
   ]
  },
  {
   "cell_type": "code",
   "execution_count": 35,
   "metadata": {
    "scrolled": true
   },
   "outputs": [
    {
     "data": {
      "text/plain": [
       "473232"
      ]
     },
     "execution_count": 35,
     "metadata": {},
     "output_type": "execute_result"
    }
   ],
   "source": [
    "len(reviews)"
   ]
  },
  {
   "cell_type": "code",
   "execution_count": 36,
   "metadata": {},
   "outputs": [],
   "source": [
    "W2V_SIZE = 100\n",
    "W2V_WINDOW = 5\n",
    "W2V_EPOCH = 16\n",
    "W2V_MIN_COUNT = 5\n",
    "W2V_SG = 1\n",
    "W2V_NEGATIVE = 15"
   ]
  },
  {
   "cell_type": "code",
   "execution_count": 37,
   "metadata": {
    "scrolled": true
   },
   "outputs": [
    {
     "name": "stderr",
     "output_type": "stream",
     "text": [
      "2021-03-23 15:10:56,298 : INFO : loading Word2Vec object from ./model/100_5_16_5_1_15\n",
      "2021-03-23 15:10:57,011 : INFO : loading wv recursively from ./model/100_5_16_5_1_15.wv.* with mmap=None\n",
      "2021-03-23 15:10:57,011 : INFO : setting ignored attribute vectors_norm to None\n",
      "2021-03-23 15:10:57,011 : INFO : loading vocabulary recursively from ./model/100_5_16_5_1_15.vocabulary.* with mmap=None\n",
      "2021-03-23 15:10:57,011 : INFO : loading trainables recursively from ./model/100_5_16_5_1_15.trainables.* with mmap=None\n",
      "2021-03-23 15:10:57,019 : INFO : setting ignored attribute cum_table to None\n",
      "2021-03-23 15:10:57,019 : INFO : loaded ./model/100_5_16_5_1_15\n"
     ]
    }
   ],
   "source": [
    "if LOADING_W2V_MODEL:\n",
    "    w2v_model = Word2Vec.load(\"./model/100_5_16_5_1_15\")      "
   ]
  },
  {
   "cell_type": "code",
   "execution_count": 38,
   "metadata": {},
   "outputs": [],
   "source": [
    "if not LOADING_W2V_MODEL: \n",
    "    w2v_model = gensim.models.word2vec.Word2Vec(size=W2V_SIZE, \n",
    "                                            window=W2V_WINDOW, \n",
    "                                            min_count=W2V_MIN_COUNT, \n",
    "                                            sg = W2V_SG,\n",
    "                                            negative = W2V_NEGATIVE, \n",
    "                                            workers=4)"
   ]
  },
  {
   "cell_type": "code",
   "execution_count": 39,
   "metadata": {},
   "outputs": [
    {
     "name": "stdout",
     "output_type": "stream",
     "text": [
      "Wall time: 0 ns\n"
     ]
    }
   ],
   "source": [
    "%%time\n",
    "if not LOADING_W2V_MODEL:\n",
    "    w2v_model.build_vocab(reviews)"
   ]
  },
  {
   "cell_type": "code",
   "execution_count": 40,
   "metadata": {
    "scrolled": true
   },
   "outputs": [
    {
     "name": "stdout",
     "output_type": "stream",
     "text": [
      "Wall time: 0 ns\n"
     ]
    }
   ],
   "source": [
    "%%time\n",
    "if not LOADING_W2V_MODEL:\n",
    "    w2v_model.train(reviews, total_examples=len(reviews), epochs=W2V_EPOCH)"
   ]
  },
  {
   "cell_type": "code",
   "execution_count": 41,
   "metadata": {
    "scrolled": false
   },
   "outputs": [
    {
     "name": "stderr",
     "output_type": "stream",
     "text": [
      "2021-03-23 15:10:57,156 : INFO : precomputing L2-norms of word weight vectors\n"
     ]
    },
    {
     "name": "stdout",
     "output_type": "stream",
     "text": [
      "[('tastiest', 0.8330073356628418), ('best-tast', 0.7619049549102783), ('worst', 0.7539272308349609), ('greatest', 0.7495632767677307), ('smoothest', 0.7031363844871521), ('yummiest', 0.7023736834526062), ('finest', 0.6620043516159058), ('nicest', 0.6543007493019104), ('healthiest', 0.6481294631958008), ('easiest', 0.62855064868927)]\n",
      "[('great', 0.7497071027755737), ('decent', 0.7428554892539978), ('tasti', 0.6635102033615112), ('fantast', 0.6608576774597168), ('bad', 0.6518062353134155), ('nice', 0.6419807076454163), ('yummi', 0.6361426115036011), ('terrif', 0.632636547088623), ('w/cranberri', 0.6222407817840576), ('gooooooood', 0.6161303520202637)]\n",
      "[('nastiest', 0.8149427175521851), ('best', 0.7539272308349609), ('worst-tast', 0.707737922668457), ('grossest', 0.7064571380615234), ('tastiest', 0.6869831085205078), ('weakest', 0.6775977611541748), ('foulest', 0.6749820113182068), ('greatest', 0.6612563133239746), ('strangest', 0.6391239166259766), ('horrid', 0.6232931017875671)]\n",
      "[('terribl', 0.6911860704421997), ('horribl', 0.6714985966682434), ('good', 0.6518061757087708), ('nasti', 0.6475830078125), ('aw', 0.6065744161605835), ('\"bad\"', 0.599716067314148), ('horrid', 0.595716118812561), ('weird', 0.5908945202827454), ('horrif', 0.5827548503875732), ('\"strange\"', 0.5763911604881287)]\n"
     ]
    }
   ],
   "source": [
    "print(w2v_model.most_similar(\"best\"))\n",
    "print(w2v_model.most_similar(\"good\"))\n",
    "print(w2v_model.most_similar(\"worst\"))\n",
    "print(w2v_model.most_similar(\"bad\"))"
   ]
  },
  {
   "cell_type": "code",
   "execution_count": 42,
   "metadata": {},
   "outputs": [
    {
     "data": {
      "text/plain": [
       "43614"
      ]
     },
     "execution_count": 42,
     "metadata": {},
     "output_type": "execute_result"
    }
   ],
   "source": [
    "len(w2v_model.wv.vocab.keys())"
   ]
  },
  {
   "cell_type": "code",
   "execution_count": 43,
   "metadata": {},
   "outputs": [],
   "source": [
    "word_vectors = w2v_model.wv"
   ]
  },
  {
   "cell_type": "code",
   "execution_count": 44,
   "metadata": {},
   "outputs": [],
   "source": [
    "# w2v_model.save(\"./model/\"+str(W2V_SIZE)+\"_\"+str(W2V_WINDOW)+\"_\"+str(W2V_EPOCH)+\"_\"+str(W2V_MIN_COUNT)+\"_\"+str(W2V_SG)+\"_\"+str(W2V_NEGATIVE))"
   ]
  },
  {
   "cell_type": "markdown",
   "metadata": {},
   "source": [
    "## Preparação para o modelo preditivo"
   ]
  },
  {
   "cell_type": "markdown",
   "metadata": {},
   "source": [
    "Limite do tamanho da sequência"
   ]
  },
  {
   "cell_type": "code",
   "execution_count": 45,
   "metadata": {},
   "outputs": [],
   "source": [
    "SEQUENCE_LENGTH = 100"
   ]
  },
  {
   "cell_type": "markdown",
   "metadata": {},
   "source": [
    "Tokenizer"
   ]
  },
  {
   "cell_type": "code",
   "execution_count": 46,
   "metadata": {},
   "outputs": [
    {
     "name": "stdout",
     "output_type": "stream",
     "text": [
      "Tamanho do vocabulário Tokenizer:  192004\n",
      "Wall time: 24.4 s\n"
     ]
    }
   ],
   "source": [
    "%%time\n",
    "tokenizer = Tokenizer(filters=\"\", oov_token=\"<oov>\")\n",
    "tokenizer.fit_on_texts(train_reviews)\n",
    "\n",
    "vocab_size = len(tokenizer.word_index) + 1\n",
    "print(\"Tamanho do vocabulário Tokenizer: \", vocab_size)"
   ]
  },
  {
   "cell_type": "markdown",
   "metadata": {},
   "source": [
    "Padding"
   ]
  },
  {
   "cell_type": "code",
   "execution_count": 47,
   "metadata": {},
   "outputs": [
    {
     "name": "stdout",
     "output_type": "stream",
     "text": [
      "Wall time: 22.3 s\n"
     ]
    }
   ],
   "source": [
    "%%time\n",
    "X_train = pad_sequences(tokenizer.texts_to_sequences(train_reviews), maxlen=SEQUENCE_LENGTH)\n",
    "X_test = pad_sequences(tokenizer.texts_to_sequences(test_reviews), maxlen=SEQUENCE_LENGTH)"
   ]
  },
  {
   "cell_type": "code",
   "execution_count": 48,
   "metadata": {},
   "outputs": [
    {
     "name": "stdout",
     "output_type": "stream",
     "text": [
      "X_train (473232, 100)\n",
      "X_test (52582, 100)\n"
     ]
    }
   ],
   "source": [
    "print(\"X_train\", X_train.shape)\n",
    "print(\"X_test\", X_test.shape)"
   ]
  },
  {
   "cell_type": "code",
   "execution_count": 49,
   "metadata": {},
   "outputs": [],
   "source": [
    "y_train = np.array(train_scores)\n",
    "y_test = np.array(test_scores)"
   ]
  },
  {
   "cell_type": "code",
   "execution_count": 50,
   "metadata": {},
   "outputs": [
    {
     "name": "stdout",
     "output_type": "stream",
     "text": [
      "y_train (473232,)\n",
      "y_test (52582,)\n"
     ]
    }
   ],
   "source": [
    "print(\"y_train\", y_train.shape)\n",
    "print(\"y_test\", y_test.shape)"
   ]
  },
  {
   "cell_type": "code",
   "execution_count": 51,
   "metadata": {},
   "outputs": [
    {
     "data": {
      "text/plain": [
       "array([1, 1, 1, 1, 1, 0, 0, 1, 1, 0], dtype=int64)"
      ]
     },
     "execution_count": 51,
     "metadata": {},
     "output_type": "execute_result"
    }
   ],
   "source": [
    "y_train[:10]"
   ]
  },
  {
   "cell_type": "code",
   "execution_count": 52,
   "metadata": {},
   "outputs": [
    {
     "name": "stdout",
     "output_type": "stream",
     "text": [
      "Num. 0s:  73901\n",
      "Num. 1s: 399331\n",
      "\n",
      "Num. 0s:  8136\n",
      "Num. 1s: 44446\n"
     ]
    }
   ],
   "source": [
    "def count_ones_zeros(arr):\n",
    "    z=0\n",
    "    u=0\n",
    "    for val in arr:\n",
    "        if val == 0:\n",
    "            z+=1\n",
    "        elif val == 1:\n",
    "            u+=1\n",
    "    print(\"Num. 0s: \", z)\n",
    "    print(\"Num. 1s:\", u)\n",
    "    \n",
    "count_ones_zeros(y_train)\n",
    "print()\n",
    "count_ones_zeros(y_test)"
   ]
  },
  {
   "cell_type": "markdown",
   "metadata": {},
   "source": [
    "Embedding Matrix"
   ]
  },
  {
   "cell_type": "code",
   "execution_count": 53,
   "metadata": {},
   "outputs": [],
   "source": [
    "embedding_matrix = np.zeros((vocab_size, W2V_SIZE))\n",
    "for word, i in tokenizer.word_index.items():\n",
    "    if word in w2v_model.wv:\n",
    "        embedding_matrix[i] = w2v_model.wv[word]"
   ]
  },
  {
   "cell_type": "code",
   "execution_count": 54,
   "metadata": {},
   "outputs": [
    {
     "name": "stdout",
     "output_type": "stream",
     "text": [
      "(192004, 100)\n"
     ]
    }
   ],
   "source": [
    "print(embedding_matrix.shape)"
   ]
  },
  {
   "cell_type": "markdown",
   "metadata": {},
   "source": [
    "## Modelo preditivo\n",
    "Para a predição de sentimento, utilizaremos um modelo formado por duas camadas de LSTMs bidirecionais, além de uma CNN com max pooling.\n",
    "\n",
    "- Uma camada de embeddings para que possamos utilizar nossos word2vec como entrada.\n",
    "- Duas camadas de LSTMs bidirecionais\n",
    "- Uma CNN para texto com janela deslizante de tamanho 5\n",
    "- Uma camada para o max pooling\n",
    "- Uma densa com ativação ReLU (max(0,x))\n",
    "- Uma densa com ativação sigmoid (classificação binária)\n"
   ]
  },
  {
   "cell_type": "code",
   "execution_count": 55,
   "metadata": {},
   "outputs": [],
   "source": [
    "model_name = \"BI-LSTM-CONV\""
   ]
  },
  {
   "cell_type": "code",
   "execution_count": 56,
   "metadata": {},
   "outputs": [],
   "source": [
    "def build_model():\n",
    "    embedding_layer = Embedding(vocab_size, W2V_SIZE, weights=[embedding_matrix], input_length=SEQUENCE_LENGTH, trainable=False)\n",
    "    model = Sequential([\n",
    "        embedding_layer,\n",
    "        Bidirectional(LSTM(100, dropout=0.3, return_sequences=True)),\n",
    "        Bidirectional(LSTM(100, dropout=0.3, return_sequences=True)),\n",
    "        Conv1D(100, 5, activation='relu'),\n",
    "        GlobalMaxPool1D(),\n",
    "        Dense(16, activation='relu'),\n",
    "        Dense(1, activation='sigmoid')\n",
    "    ],\n",
    "    name= model_name)\n",
    "    return model"
   ]
  },
  {
   "cell_type": "code",
   "execution_count": 57,
   "metadata": {
    "scrolled": false
   },
   "outputs": [],
   "source": [
    "model = build_model()"
   ]
  },
  {
   "cell_type": "code",
   "execution_count": 58,
   "metadata": {},
   "outputs": [
    {
     "name": "stdout",
     "output_type": "stream",
     "text": [
      "Model: \"BI-LSTM-CONV\"\n",
      "_________________________________________________________________\n",
      "Layer (type)                 Output Shape              Param #   \n",
      "=================================================================\n",
      "embedding (Embedding)        (None, 100, 100)          19200400  \n",
      "_________________________________________________________________\n",
      "bidirectional (Bidirectional (None, 100, 200)          160800    \n",
      "_________________________________________________________________\n",
      "bidirectional_1 (Bidirection (None, 100, 200)          240800    \n",
      "_________________________________________________________________\n",
      "conv1d (Conv1D)              (None, 96, 100)           100100    \n",
      "_________________________________________________________________\n",
      "global_max_pooling1d (Global (None, 100)               0         \n",
      "_________________________________________________________________\n",
      "dense (Dense)                (None, 16)                1616      \n",
      "_________________________________________________________________\n",
      "dense_1 (Dense)              (None, 1)                 17        \n",
      "=================================================================\n",
      "Total params: 19,703,733\n",
      "Trainable params: 503,333\n",
      "Non-trainable params: 19,200,400\n",
      "_________________________________________________________________\n"
     ]
    }
   ],
   "source": [
    "model.summary()"
   ]
  },
  {
   "cell_type": "markdown",
   "metadata": {},
   "source": [
    "Utilizaremos:\n",
    "- otimizador *Adam* para a descida de gradiente\n",
    "- função de perda *binary crossentropy*, considerando a natureza do problema \n",
    "- métrica de acurácia"
   ]
  },
  {
   "cell_type": "code",
   "execution_count": 59,
   "metadata": {},
   "outputs": [],
   "source": [
    "model.compile(optimizer=\"adam\", loss=\"binary_crossentropy\", metrics=[\"accuracy\"])"
   ]
  },
  {
   "cell_type": "markdown",
   "metadata": {},
   "source": [
    "Os callbacks auxiliarão o treinamento do modelo, diminuindo o *learning rate* de acordo com a perda de avaliação e efetuando o *early stopping* caso a acurácia de validação não suba por um dado número de épocas."
   ]
  },
  {
   "cell_type": "code",
   "execution_count": 60,
   "metadata": {},
   "outputs": [],
   "source": [
    "callbacks = [ ReduceLROnPlateau(monitor='val_loss', patience=4, cooldown=0),\n",
    "              EarlyStopping(monitor='val_accuracy', min_delta=1e-4, patience=4)]"
   ]
  },
  {
   "cell_type": "markdown",
   "metadata": {},
   "source": [
    "### Treino\n"
   ]
  },
  {
   "cell_type": "code",
   "execution_count": 61,
   "metadata": {},
   "outputs": [],
   "source": [
    "EPOCHS = 10\n",
    "# BATCH_SIZE = 64\n",
    "BATCH_SIZE = 1024"
   ]
  },
  {
   "cell_type": "markdown",
   "metadata": {},
   "source": [
    "Aplicaremos então os pesos das classes no treino, como forma de compensar o desbalanceamento na distribuição das classes 0 e 1.\n",
    "A classe 0 receberá um peso maior e, dessa forma, será possível evitar que o modelo caia em solução trivial."
   ]
  },
  {
   "cell_type": "code",
   "execution_count": 62,
   "metadata": {},
   "outputs": [
    {
     "data": {
      "text/plain": [
       "{1: 1.0, 0: 5.403593997374866}"
      ]
     },
     "execution_count": 62,
     "metadata": {},
     "output_type": "execute_result"
    }
   ],
   "source": [
    "c_weights"
   ]
  },
  {
   "cell_type": "code",
   "execution_count": 63,
   "metadata": {
    "scrolled": false
   },
   "outputs": [
    {
     "name": "stdout",
     "output_type": "stream",
     "text": [
      "Epoch 1/10\n",
      "416/416 [==============================] - 146s 283ms/step - loss: 0.6760 - accuracy: 0.8123 - val_loss: 0.2494 - val_accuracy: 0.8953\n",
      "Epoch 2/10\n",
      "416/416 [==============================] - 116s 278ms/step - loss: 0.4316 - accuracy: 0.8879 - val_loss: 0.2071 - val_accuracy: 0.9122\n",
      "Epoch 3/10\n",
      "416/416 [==============================] - 115s 276ms/step - loss: 0.3662 - accuracy: 0.9061 - val_loss: 0.1579 - val_accuracy: 0.9379\n",
      "Epoch 4/10\n",
      "416/416 [==============================] - 114s 273ms/step - loss: 0.3298 - accuracy: 0.9177 - val_loss: 0.2020 - val_accuracy: 0.9186\n",
      "Epoch 5/10\n",
      "416/416 [==============================] - 143s 345ms/step - loss: 0.3107 - accuracy: 0.9217 - val_loss: 0.1376 - val_accuracy: 0.9454\n",
      "Epoch 6/10\n",
      "416/416 [==============================] - 186s 447ms/step - loss: 0.2884 - accuracy: 0.9278 - val_loss: 0.1775 - val_accuracy: 0.9271\n",
      "Epoch 7/10\n",
      "416/416 [==============================] - 271s 652ms/step - loss: 0.2708 - accuracy: 0.9310 - val_loss: 0.1231 - val_accuracy: 0.9524\n",
      "Epoch 8/10\n",
      "416/416 [==============================] - 252s 605ms/step - loss: 0.2618 - accuracy: 0.9352 - val_loss: 0.1570 - val_accuracy: 0.9384\n",
      "Epoch 9/10\n",
      "416/416 [==============================] - 225s 540ms/step - loss: 0.2432 - accuracy: 0.9387 - val_loss: 0.1792 - val_accuracy: 0.9259\n",
      "Epoch 10/10\n",
      "416/416 [==============================] - 210s 504ms/step - loss: 0.2384 - accuracy: 0.9406 - val_loss: 0.1450 - val_accuracy: 0.9444\n",
      "Wall time: 29min 36s\n"
     ]
    }
   ],
   "source": [
    "%%time\n",
    "history = model.fit(X_train, y_train,\n",
    "                    batch_size=BATCH_SIZE,\n",
    "                    epochs=EPOCHS,\n",
    "                    validation_split=0.1,\n",
    "                    verbose=1,\n",
    "                    class_weight=c_weights,\n",
    "                    callbacks=callbacks)"
   ]
  },
  {
   "cell_type": "code",
   "execution_count": 64,
   "metadata": {},
   "outputs": [],
   "source": [
    "# model.save(model_name)"
   ]
  },
  {
   "cell_type": "code",
   "execution_count": 66,
   "metadata": {},
   "outputs": [],
   "source": [
    "acc,  val_acc  = history.history['accuracy'], history.history['val_accuracy']\n",
    "loss, val_loss = history.history['loss'], history.history['val_loss']\n",
    "epochs = range(len(acc))"
   ]
  },
  {
   "cell_type": "code",
   "execution_count": 108,
   "metadata": {
    "scrolled": false
   },
   "outputs": [
    {
     "data": {
      "image/png": "[encoded data removed]",
      "text/plain": [
       "<Figure size 1152x648 with 1 Axes>"
      ]
     },
     "metadata": {},
     "output_type": "display_data"
    }
   ],
   "source": [
    "plt.title('Perda - Treino e Avaliação')\n",
    "ax = sns.lineplot(epochs, loss,  label='Perda treino')\n",
    "ax.set(xlabel='Perda', ylabel='Épocas')\n",
    "plt.plot(epochs, val_loss, 'orange', label='Perda validação')\n",
    "plt.legend()\n",
    "plt.show()"
   ]
  },
  {
   "cell_type": "code",
   "execution_count": 109,
   "metadata": {
    "scrolled": false
   },
   "outputs": [
    {
     "data": {
      "image/png": "[encoded data removed]",
      "text/plain": [
       "<Figure size 1152x648 with 1 Axes>"
      ]
     },
     "metadata": {},
     "output_type": "display_data"
    }
   ],
   "source": [
    "plt.title('Acurácia - Treino e Avaliação')\n",
    "ax = sns.lineplot(epochs, acc,  label='Acurácia treino')\n",
    "ax.set(xlabel='Acurácia', ylabel='Épocas')\n",
    "plt.plot(epochs, val_acc, 'orange', label='Acurácia validação')\n",
    "plt.legend()\n",
    "plt.show()"
   ]
  },
  {
   "cell_type": "markdown",
   "metadata": {},
   "source": [
    "### Teste"
   ]
  },
  {
   "cell_type": "code",
   "execution_count": 80,
   "metadata": {},
   "outputs": [
    {
     "name": "stdout",
     "output_type": "stream",
     "text": [
      "52/52 [==============================] - 5s 96ms/step - loss: 0.1444 - accuracy: 0.9436\n",
      "\n",
      "ACCURACY: 0.9436308741569519\n",
      "LOSS: 0.1443701833486557\n",
      "Wall time: 5.08 s\n"
     ]
    }
   ],
   "source": [
    "%%time\n",
    "score = model.evaluate(X_test, y_test, batch_size=BATCH_SIZE)\n",
    "print()\n",
    "print(\"ACCURACY:\",score[1])\n",
    "print(\"LOSS:\",score[0])"
   ]
  },
  {
   "cell_type": "code",
   "execution_count": 70,
   "metadata": {},
   "outputs": [],
   "source": [
    "y_pred = model.predict_classes(X_test)"
   ]
  },
  {
   "cell_type": "code",
   "execution_count": 82,
   "metadata": {},
   "outputs": [],
   "source": [
    "class_hits = {0:0, 1:0}\n",
    "class_total = {0:0, 1:0}\n",
    "for i in range(len(y_pred)):\n",
    "    if y_pred[i] == y_test[i]:\n",
    "        class_hits[y_pred[i][0]]+=1\n",
    "    class_total[y_test[i]]+=1"
   ]
  },
  {
   "cell_type": "code",
   "execution_count": 83,
   "metadata": {},
   "outputs": [
    {
     "name": "stdout",
     "output_type": "stream",
     "text": [
      "{0: 7809, 1: 41809}\n",
      "{0: 8136, 1: 44446}\n"
     ]
    }
   ],
   "source": [
    "print(class_hits)\n",
    "print(class_total)"
   ]
  },
  {
   "cell_type": "code",
   "execution_count": 110,
   "metadata": {},
   "outputs": [
    {
     "name": "stdout",
     "output_type": "stream",
     "text": [
      "Acurácia em positivos : 0.9406695765648202\n",
      "Acurácia em negativos : 0.9598082595870207\n"
     ]
    }
   ],
   "source": [
    "print(\"Acurácia em positivos :\", class_hits[1]/class_total[1])\n",
    "print(\"Acurácia em negativos :\", class_hits[0]/class_total[0])"
   ]
  }
 ],
 "metadata": {
  "colab": {
   "name": "TP1 ML",
   "provenance": []
  },
  "kernelspec": {
   "display_name": "Python 3",
   "language": "python",
   "name": "python3"
  },
  "language_info": {
   "codemirror_mode": {
    "name": "ipython",
    "version": 3
   },
   "file_extension": ".py",
   "mimetype": "text/x-python",
   "name": "python",
   "nbconvert_exporter": "python",
   "pygments_lexer": "ipython3",
   "version": "3.8.5"
  }
 },
 "nbformat": 4,
 "nbformat_minor": 1
}